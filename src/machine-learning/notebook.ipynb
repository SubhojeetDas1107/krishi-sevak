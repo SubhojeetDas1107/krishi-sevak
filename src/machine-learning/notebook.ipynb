{
  "cells": [
    {
      "cell_type": "code",
      "execution_count": null,
      "metadata": {
        "id": "UQ4TltOWA1Gu"
      },
      "outputs": [],
      "source": [
        "import numpy as  np\n",
        "import pandas as pd\n",
        "import matplotlib.pyplot as plt\n",
        "import seaborn as sns \n",
        "from ipywidgets import interact"
      ]
    },
    {
      "cell_type": "code",
      "execution_count": null,
      "metadata": {
        "id": "VeGIgz2mBFr7"
      },
      "outputs": [],
      "source": [
        "# For predictive data analysis\n",
        "from sklearn.preprocessing import OneHotEncoder, LabelEncoder\n",
        "from sklearn.model_selection import train_test_split\n",
        "from sklearn.tree import DecisionTreeClassifier\n",
        "\n",
        "\n",
        "from sklearn.svm import SVC\n",
        "from sklearn.metrics import confusion_matrix, accuracy_score, precision_recall_curve "
      ]
    },
    {
      "cell_type": "code",
      "execution_count": null,
      "metadata": {
        "id": "FzzPpdtnBLDv"
      },
      "outputs": [],
      "source": [
        "data=pd.read_csv('/content/data (6).csv')"
      ]
    },
    {
      "cell_type": "code",
      "execution_count": null,
      "metadata": {
        "colab": {
          "base_uri": "https://localhost:8080/",
          "height": 206
        },
        "id": "N_sRxMqrBQgO",
        "outputId": "19653682-5a7e-4acc-f701-e57b526d5716"
      },
      "outputs": [
        {
          "data": {
            "text/html": [
              "\n",
              "  <div id=\"df-a56bfe5c-3843-4148-975f-bacf59592a13\">\n",
              "    <div class=\"colab-df-container\">\n",
              "      <div>\n",
              "<style scoped>\n",
              "    .dataframe tbody tr th:only-of-type {\n",
              "        vertical-align: middle;\n",
              "    }\n",
              "\n",
              "    .dataframe tbody tr th {\n",
              "        vertical-align: top;\n",
              "    }\n",
              "\n",
              "    .dataframe thead th {\n",
              "        text-align: right;\n",
              "    }\n",
              "</style>\n",
              "<table border=\"1\" class=\"dataframe\">\n",
              "  <thead>\n",
              "    <tr style=\"text-align: right;\">\n",
              "      <th></th>\n",
              "      <th>soil</th>\n",
              "      <th>pH</th>\n",
              "      <th>type</th>\n",
              "      <th>temp</th>\n",
              "      <th>rainfall</th>\n",
              "      <th>humidity</th>\n",
              "      <th>sowing_month</th>\n",
              "      <th>crop</th>\n",
              "    </tr>\n",
              "  </thead>\n",
              "  <tbody>\n",
              "    <tr>\n",
              "      <th>0</th>\n",
              "      <td>black</td>\n",
              "      <td>6.063604</td>\n",
              "      <td>loam</td>\n",
              "      <td>23.321508</td>\n",
              "      <td>77.461205</td>\n",
              "      <td>57.663885</td>\n",
              "      <td>7</td>\n",
              "      <td>maize</td>\n",
              "    </tr>\n",
              "    <tr>\n",
              "      <th>1</th>\n",
              "      <td>alluvial</td>\n",
              "      <td>6.025738</td>\n",
              "      <td>clay</td>\n",
              "      <td>35.878778</td>\n",
              "      <td>176.768842</td>\n",
              "      <td>63.309918</td>\n",
              "      <td>5</td>\n",
              "      <td>rice</td>\n",
              "    </tr>\n",
              "    <tr>\n",
              "      <th>2</th>\n",
              "      <td>laterite</td>\n",
              "      <td>6.488525</td>\n",
              "      <td>clay</td>\n",
              "      <td>32.467820</td>\n",
              "      <td>88.932953</td>\n",
              "      <td>59.021547</td>\n",
              "      <td>6</td>\n",
              "      <td>cotton</td>\n",
              "    </tr>\n",
              "    <tr>\n",
              "      <th>3</th>\n",
              "      <td>redandyellow</td>\n",
              "      <td>6.059400</td>\n",
              "      <td>loam</td>\n",
              "      <td>24.930039</td>\n",
              "      <td>121.643095</td>\n",
              "      <td>73.829977</td>\n",
              "      <td>10</td>\n",
              "      <td>coffee</td>\n",
              "    </tr>\n",
              "    <tr>\n",
              "      <th>4</th>\n",
              "      <td>alluvial</td>\n",
              "      <td>5.679515</td>\n",
              "      <td>clay</td>\n",
              "      <td>21.775325</td>\n",
              "      <td>232.020612</td>\n",
              "      <td>60.103052</td>\n",
              "      <td>6</td>\n",
              "      <td>rice</td>\n",
              "    </tr>\n",
              "  </tbody>\n",
              "</table>\n",
              "</div>\n",
              "      <button class=\"colab-df-convert\" onclick=\"convertToInteractive('df-a56bfe5c-3843-4148-975f-bacf59592a13')\"\n",
              "              title=\"Convert this dataframe to an interactive table.\"\n",
              "              style=\"display:none;\">\n",
              "        \n",
              "  <svg xmlns=\"http://www.w3.org/2000/svg\" height=\"24px\"viewBox=\"0 0 24 24\"\n",
              "       width=\"24px\">\n",
              "    <path d=\"M0 0h24v24H0V0z\" fill=\"none\"/>\n",
              "    <path d=\"M18.56 5.44l.94 2.06.94-2.06 2.06-.94-2.06-.94-.94-2.06-.94 2.06-2.06.94zm-11 1L8.5 8.5l.94-2.06 2.06-.94-2.06-.94L8.5 2.5l-.94 2.06-2.06.94zm10 10l.94 2.06.94-2.06 2.06-.94-2.06-.94-.94-2.06-.94 2.06-2.06.94z\"/><path d=\"M17.41 7.96l-1.37-1.37c-.4-.4-.92-.59-1.43-.59-.52 0-1.04.2-1.43.59L10.3 9.45l-7.72 7.72c-.78.78-.78 2.05 0 2.83L4 21.41c.39.39.9.59 1.41.59.51 0 1.02-.2 1.41-.59l7.78-7.78 2.81-2.81c.8-.78.8-2.07 0-2.86zM5.41 20L4 18.59l7.72-7.72 1.47 1.35L5.41 20z\"/>\n",
              "  </svg>\n",
              "      </button>\n",
              "      \n",
              "  <style>\n",
              "    .colab-df-container {\n",
              "      display:flex;\n",
              "      flex-wrap:wrap;\n",
              "      gap: 12px;\n",
              "    }\n",
              "\n",
              "    .colab-df-convert {\n",
              "      background-color: #E8F0FE;\n",
              "      border: none;\n",
              "      border-radius: 50%;\n",
              "      cursor: pointer;\n",
              "      display: none;\n",
              "      fill: #1967D2;\n",
              "      height: 32px;\n",
              "      padding: 0 0 0 0;\n",
              "      width: 32px;\n",
              "    }\n",
              "\n",
              "    .colab-df-convert:hover {\n",
              "      background-color: #E2EBFA;\n",
              "      box-shadow: 0px 1px 2px rgba(60, 64, 67, 0.3), 0px 1px 3px 1px rgba(60, 64, 67, 0.15);\n",
              "      fill: #174EA6;\n",
              "    }\n",
              "\n",
              "    [theme=dark] .colab-df-convert {\n",
              "      background-color: #3B4455;\n",
              "      fill: #D2E3FC;\n",
              "    }\n",
              "\n",
              "    [theme=dark] .colab-df-convert:hover {\n",
              "      background-color: #434B5C;\n",
              "      box-shadow: 0px 1px 3px 1px rgba(0, 0, 0, 0.15);\n",
              "      filter: drop-shadow(0px 1px 2px rgba(0, 0, 0, 0.3));\n",
              "      fill: #FFFFFF;\n",
              "    }\n",
              "  </style>\n",
              "\n",
              "      <script>\n",
              "        const buttonEl =\n",
              "          document.querySelector('#df-a56bfe5c-3843-4148-975f-bacf59592a13 button.colab-df-convert');\n",
              "        buttonEl.style.display =\n",
              "          google.colab.kernel.accessAllowed ? 'block' : 'none';\n",
              "\n",
              "        async function convertToInteractive(key) {\n",
              "          const element = document.querySelector('#df-a56bfe5c-3843-4148-975f-bacf59592a13');\n",
              "          const dataTable =\n",
              "            await google.colab.kernel.invokeFunction('convertToInteractive',\n",
              "                                                     [key], {});\n",
              "          if (!dataTable) return;\n",
              "\n",
              "          const docLinkHtml = 'Like what you see? Visit the ' +\n",
              "            '<a target=\"_blank\" href=https://colab.research.google.com/notebooks/data_table.ipynb>data table notebook</a>'\n",
              "            + ' to learn more about interactive tables.';\n",
              "          element.innerHTML = '';\n",
              "          dataTable['output_type'] = 'display_data';\n",
              "          await google.colab.output.renderOutput(dataTable, element);\n",
              "          const docLink = document.createElement('div');\n",
              "          docLink.innerHTML = docLinkHtml;\n",
              "          element.appendChild(docLink);\n",
              "        }\n",
              "      </script>\n",
              "    </div>\n",
              "  </div>\n",
              "  "
            ],
            "text/plain": [
              "           soil        pH  type       temp    rainfall   humidity  \\\n",
              "0         black  6.063604  loam  23.321508   77.461205  57.663885   \n",
              "1      alluvial  6.025738  clay  35.878778  176.768842  63.309918   \n",
              "2      laterite  6.488525  clay  32.467820   88.932953  59.021547   \n",
              "3  redandyellow  6.059400  loam  24.930039  121.643095  73.829977   \n",
              "4      alluvial  5.679515  clay  21.775325  232.020612  60.103052   \n",
              "\n",
              "   sowing_month    crop  \n",
              "0             7   maize  \n",
              "1             5    rice  \n",
              "2             6  cotton  \n",
              "3            10  coffee  \n",
              "4             6    rice  "
            ]
          },
          "execution_count": 72,
          "metadata": {},
          "output_type": "execute_result"
        }
      ],
      "source": [
        "data.head()"
      ]
    },
    {
      "cell_type": "code",
      "execution_count": null,
      "metadata": {
        "colab": {
          "base_uri": "https://localhost:8080/"
        },
        "id": "DcF7myqHBXZW",
        "outputId": "f415361c-6453-4701-95a6-a2cfb22d0765"
      },
      "outputs": [
        {
          "name": "stdout",
          "output_type": "stream",
          "text": [
            "shape of dataset: (20000, 8)\n"
          ]
        }
      ],
      "source": [
        "print(\"shape of dataset:\",data.shape)"
      ]
    },
    {
      "cell_type": "code",
      "execution_count": null,
      "metadata": {
        "colab": {
          "base_uri": "https://localhost:8080/"
        },
        "id": "HTkZ15jfBauj",
        "outputId": "07079a28-9c2a-4ce6-c3fd-750a2f0cb969"
      },
      "outputs": [
        {
          "data": {
            "text/plain": [
              "soil            0\n",
              "pH              0\n",
              "type            0\n",
              "temp            0\n",
              "rainfall        0\n",
              "humidity        0\n",
              "sowing_month    0\n",
              "crop            0\n",
              "dtype: int64"
            ]
          },
          "execution_count": 74,
          "metadata": {},
          "output_type": "execute_result"
        }
      ],
      "source": [
        "data.isnull().sum()"
      ]
    },
    {
      "cell_type": "code",
      "execution_count": null,
      "metadata": {
        "colab": {
          "base_uri": "https://localhost:8080/"
        },
        "id": "AKdIk49TBebu",
        "outputId": "03e27ca7-fcfe-4626-ed06-fab96b9a3213"
      },
      "outputs": [
        {
          "data": {
            "text/plain": [
              "coffee       2551\n",
              "maize        2538\n",
              "rice         2536\n",
              "sugarcane    2518\n",
              "tea          2484\n",
              "jute         2481\n",
              "wheat        2477\n",
              "cotton       2415\n",
              "Name: crop, dtype: int64"
            ]
          },
          "execution_count": 75,
          "metadata": {},
          "output_type": "execute_result"
        }
      ],
      "source": [
        "data['crop'].value_counts()"
      ]
    },
    {
      "cell_type": "code",
      "execution_count": null,
      "metadata": {
        "colab": {
          "base_uri": "https://localhost:8080/"
        },
        "id": "B6ajJZdUBsel",
        "outputId": "d3dea267-1565-4fd1-fbda-15b4dcd32c6f"
      },
      "outputs": [
        {
          "data": {
            "text/plain": [
              "alluvial        7902\n",
              "black           4163\n",
              "mountain        2484\n",
              "laterite        2481\n",
              "redandyellow    2130\n",
              "arid             840\n",
              "Name: soil, dtype: int64"
            ]
          },
          "execution_count": 76,
          "metadata": {},
          "output_type": "execute_result"
        }
      ],
      "source": [
        "data['soil'].value_counts()"
      ]
    },
    {
      "cell_type": "code",
      "execution_count": null,
      "metadata": {
        "colab": {
          "base_uri": "https://localhost:8080/"
        },
        "id": "7MrOUprQCGXB",
        "outputId": "21c649dc-270d-4a61-ad86-3afef1515b28"
      },
      "outputs": [
        {
          "data": {
            "text/plain": [
              "loam    10834\n",
              "clay     7083\n",
              "sand     2083\n",
              "Name: type, dtype: int64"
            ]
          },
          "execution_count": 77,
          "metadata": {},
          "output_type": "execute_result"
        }
      ],
      "source": [
        "data['type'].value_counts()"
      ]
    },
    {
      "cell_type": "code",
      "execution_count": null,
      "metadata": {
        "id": "6rnxA_nMB-JW"
      },
      "outputs": [],
      "source": [
        "data1 = pd.get_dummies(data,columns=['soil','type'],drop_first=True)"
      ]
    },
    {
      "cell_type": "code",
      "execution_count": null,
      "metadata": {
        "colab": {
          "base_uri": "https://localhost:8080/",
          "height": 487
        },
        "id": "XAAN58ckFNFM",
        "outputId": "7b790aba-e30f-435a-e4d6-548a1cda3ea3"
      },
      "outputs": [
        {
          "data": {
            "text/html": [
              "\n",
              "  <div id=\"df-37a653a6-6b1f-4a04-b091-d35dcde4b7a5\">\n",
              "    <div class=\"colab-df-container\">\n",
              "      <div>\n",
              "<style scoped>\n",
              "    .dataframe tbody tr th:only-of-type {\n",
              "        vertical-align: middle;\n",
              "    }\n",
              "\n",
              "    .dataframe tbody tr th {\n",
              "        vertical-align: top;\n",
              "    }\n",
              "\n",
              "    .dataframe thead th {\n",
              "        text-align: right;\n",
              "    }\n",
              "</style>\n",
              "<table border=\"1\" class=\"dataframe\">\n",
              "  <thead>\n",
              "    <tr style=\"text-align: right;\">\n",
              "      <th></th>\n",
              "      <th>pH</th>\n",
              "      <th>temp</th>\n",
              "      <th>rainfall</th>\n",
              "      <th>humidity</th>\n",
              "      <th>sowing_month</th>\n",
              "      <th>crop</th>\n",
              "      <th>soil_arid</th>\n",
              "      <th>soil_black</th>\n",
              "      <th>soil_laterite</th>\n",
              "      <th>soil_mountain</th>\n",
              "      <th>soil_redandyellow</th>\n",
              "      <th>type_loam</th>\n",
              "      <th>type_sand</th>\n",
              "    </tr>\n",
              "  </thead>\n",
              "  <tbody>\n",
              "    <tr>\n",
              "      <th>0</th>\n",
              "      <td>6.063604</td>\n",
              "      <td>23.321508</td>\n",
              "      <td>77.461205</td>\n",
              "      <td>57.663885</td>\n",
              "      <td>7</td>\n",
              "      <td>maize</td>\n",
              "      <td>0</td>\n",
              "      <td>1</td>\n",
              "      <td>0</td>\n",
              "      <td>0</td>\n",
              "      <td>0</td>\n",
              "      <td>1</td>\n",
              "      <td>0</td>\n",
              "    </tr>\n",
              "    <tr>\n",
              "      <th>1</th>\n",
              "      <td>6.025738</td>\n",
              "      <td>35.878778</td>\n",
              "      <td>176.768842</td>\n",
              "      <td>63.309918</td>\n",
              "      <td>5</td>\n",
              "      <td>rice</td>\n",
              "      <td>0</td>\n",
              "      <td>0</td>\n",
              "      <td>0</td>\n",
              "      <td>0</td>\n",
              "      <td>0</td>\n",
              "      <td>0</td>\n",
              "      <td>0</td>\n",
              "    </tr>\n",
              "    <tr>\n",
              "      <th>2</th>\n",
              "      <td>6.488525</td>\n",
              "      <td>32.467820</td>\n",
              "      <td>88.932953</td>\n",
              "      <td>59.021547</td>\n",
              "      <td>6</td>\n",
              "      <td>cotton</td>\n",
              "      <td>0</td>\n",
              "      <td>0</td>\n",
              "      <td>1</td>\n",
              "      <td>0</td>\n",
              "      <td>0</td>\n",
              "      <td>0</td>\n",
              "      <td>0</td>\n",
              "    </tr>\n",
              "    <tr>\n",
              "      <th>3</th>\n",
              "      <td>6.059400</td>\n",
              "      <td>24.930039</td>\n",
              "      <td>121.643095</td>\n",
              "      <td>73.829977</td>\n",
              "      <td>10</td>\n",
              "      <td>coffee</td>\n",
              "      <td>0</td>\n",
              "      <td>0</td>\n",
              "      <td>0</td>\n",
              "      <td>0</td>\n",
              "      <td>1</td>\n",
              "      <td>1</td>\n",
              "      <td>0</td>\n",
              "    </tr>\n",
              "    <tr>\n",
              "      <th>4</th>\n",
              "      <td>5.679515</td>\n",
              "      <td>21.775325</td>\n",
              "      <td>232.020612</td>\n",
              "      <td>60.103052</td>\n",
              "      <td>6</td>\n",
              "      <td>rice</td>\n",
              "      <td>0</td>\n",
              "      <td>0</td>\n",
              "      <td>0</td>\n",
              "      <td>0</td>\n",
              "      <td>0</td>\n",
              "      <td>0</td>\n",
              "      <td>0</td>\n",
              "    </tr>\n",
              "    <tr>\n",
              "      <th>...</th>\n",
              "      <td>...</td>\n",
              "      <td>...</td>\n",
              "      <td>...</td>\n",
              "      <td>...</td>\n",
              "      <td>...</td>\n",
              "      <td>...</td>\n",
              "      <td>...</td>\n",
              "      <td>...</td>\n",
              "      <td>...</td>\n",
              "      <td>...</td>\n",
              "      <td>...</td>\n",
              "      <td>...</td>\n",
              "      <td>...</td>\n",
              "    </tr>\n",
              "    <tr>\n",
              "      <th>19995</th>\n",
              "      <td>5.625046</td>\n",
              "      <td>33.860422</td>\n",
              "      <td>246.112064</td>\n",
              "      <td>60.850606</td>\n",
              "      <td>6</td>\n",
              "      <td>rice</td>\n",
              "      <td>0</td>\n",
              "      <td>0</td>\n",
              "      <td>0</td>\n",
              "      <td>0</td>\n",
              "      <td>0</td>\n",
              "      <td>0</td>\n",
              "      <td>0</td>\n",
              "    </tr>\n",
              "    <tr>\n",
              "      <th>19996</th>\n",
              "      <td>5.263746</td>\n",
              "      <td>25.498666</td>\n",
              "      <td>269.220375</td>\n",
              "      <td>65.813790</td>\n",
              "      <td>4</td>\n",
              "      <td>tea</td>\n",
              "      <td>0</td>\n",
              "      <td>0</td>\n",
              "      <td>0</td>\n",
              "      <td>1</td>\n",
              "      <td>0</td>\n",
              "      <td>1</td>\n",
              "      <td>0</td>\n",
              "    </tr>\n",
              "    <tr>\n",
              "      <th>19997</th>\n",
              "      <td>6.288208</td>\n",
              "      <td>25.476959</td>\n",
              "      <td>176.037948</td>\n",
              "      <td>75.045343</td>\n",
              "      <td>5</td>\n",
              "      <td>jute</td>\n",
              "      <td>0</td>\n",
              "      <td>0</td>\n",
              "      <td>0</td>\n",
              "      <td>0</td>\n",
              "      <td>0</td>\n",
              "      <td>0</td>\n",
              "      <td>0</td>\n",
              "    </tr>\n",
              "    <tr>\n",
              "      <th>19998</th>\n",
              "      <td>6.254648</td>\n",
              "      <td>22.601163</td>\n",
              "      <td>74.121838</td>\n",
              "      <td>53.526233</td>\n",
              "      <td>11</td>\n",
              "      <td>wheat</td>\n",
              "      <td>0</td>\n",
              "      <td>0</td>\n",
              "      <td>0</td>\n",
              "      <td>0</td>\n",
              "      <td>0</td>\n",
              "      <td>1</td>\n",
              "      <td>0</td>\n",
              "    </tr>\n",
              "    <tr>\n",
              "      <th>19999</th>\n",
              "      <td>6.658074</td>\n",
              "      <td>29.968597</td>\n",
              "      <td>156.470580</td>\n",
              "      <td>56.610187</td>\n",
              "      <td>11</td>\n",
              "      <td>sugarcane</td>\n",
              "      <td>0</td>\n",
              "      <td>0</td>\n",
              "      <td>0</td>\n",
              "      <td>0</td>\n",
              "      <td>1</td>\n",
              "      <td>1</td>\n",
              "      <td>0</td>\n",
              "    </tr>\n",
              "  </tbody>\n",
              "</table>\n",
              "<p>20000 rows × 13 columns</p>\n",
              "</div>\n",
              "      <button class=\"colab-df-convert\" onclick=\"convertToInteractive('df-37a653a6-6b1f-4a04-b091-d35dcde4b7a5')\"\n",
              "              title=\"Convert this dataframe to an interactive table.\"\n",
              "              style=\"display:none;\">\n",
              "        \n",
              "  <svg xmlns=\"http://www.w3.org/2000/svg\" height=\"24px\"viewBox=\"0 0 24 24\"\n",
              "       width=\"24px\">\n",
              "    <path d=\"M0 0h24v24H0V0z\" fill=\"none\"/>\n",
              "    <path d=\"M18.56 5.44l.94 2.06.94-2.06 2.06-.94-2.06-.94-.94-2.06-.94 2.06-2.06.94zm-11 1L8.5 8.5l.94-2.06 2.06-.94-2.06-.94L8.5 2.5l-.94 2.06-2.06.94zm10 10l.94 2.06.94-2.06 2.06-.94-2.06-.94-.94-2.06-.94 2.06-2.06.94z\"/><path d=\"M17.41 7.96l-1.37-1.37c-.4-.4-.92-.59-1.43-.59-.52 0-1.04.2-1.43.59L10.3 9.45l-7.72 7.72c-.78.78-.78 2.05 0 2.83L4 21.41c.39.39.9.59 1.41.59.51 0 1.02-.2 1.41-.59l7.78-7.78 2.81-2.81c.8-.78.8-2.07 0-2.86zM5.41 20L4 18.59l7.72-7.72 1.47 1.35L5.41 20z\"/>\n",
              "  </svg>\n",
              "      </button>\n",
              "      \n",
              "  <style>\n",
              "    .colab-df-container {\n",
              "      display:flex;\n",
              "      flex-wrap:wrap;\n",
              "      gap: 12px;\n",
              "    }\n",
              "\n",
              "    .colab-df-convert {\n",
              "      background-color: #E8F0FE;\n",
              "      border: none;\n",
              "      border-radius: 50%;\n",
              "      cursor: pointer;\n",
              "      display: none;\n",
              "      fill: #1967D2;\n",
              "      height: 32px;\n",
              "      padding: 0 0 0 0;\n",
              "      width: 32px;\n",
              "    }\n",
              "\n",
              "    .colab-df-convert:hover {\n",
              "      background-color: #E2EBFA;\n",
              "      box-shadow: 0px 1px 2px rgba(60, 64, 67, 0.3), 0px 1px 3px 1px rgba(60, 64, 67, 0.15);\n",
              "      fill: #174EA6;\n",
              "    }\n",
              "\n",
              "    [theme=dark] .colab-df-convert {\n",
              "      background-color: #3B4455;\n",
              "      fill: #D2E3FC;\n",
              "    }\n",
              "\n",
              "    [theme=dark] .colab-df-convert:hover {\n",
              "      background-color: #434B5C;\n",
              "      box-shadow: 0px 1px 3px 1px rgba(0, 0, 0, 0.15);\n",
              "      filter: drop-shadow(0px 1px 2px rgba(0, 0, 0, 0.3));\n",
              "      fill: #FFFFFF;\n",
              "    }\n",
              "  </style>\n",
              "\n",
              "      <script>\n",
              "        const buttonEl =\n",
              "          document.querySelector('#df-37a653a6-6b1f-4a04-b091-d35dcde4b7a5 button.colab-df-convert');\n",
              "        buttonEl.style.display =\n",
              "          google.colab.kernel.accessAllowed ? 'block' : 'none';\n",
              "\n",
              "        async function convertToInteractive(key) {\n",
              "          const element = document.querySelector('#df-37a653a6-6b1f-4a04-b091-d35dcde4b7a5');\n",
              "          const dataTable =\n",
              "            await google.colab.kernel.invokeFunction('convertToInteractive',\n",
              "                                                     [key], {});\n",
              "          if (!dataTable) return;\n",
              "\n",
              "          const docLinkHtml = 'Like what you see? Visit the ' +\n",
              "            '<a target=\"_blank\" href=https://colab.research.google.com/notebooks/data_table.ipynb>data table notebook</a>'\n",
              "            + ' to learn more about interactive tables.';\n",
              "          element.innerHTML = '';\n",
              "          dataTable['output_type'] = 'display_data';\n",
              "          await google.colab.output.renderOutput(dataTable, element);\n",
              "          const docLink = document.createElement('div');\n",
              "          docLink.innerHTML = docLinkHtml;\n",
              "          element.appendChild(docLink);\n",
              "        }\n",
              "      </script>\n",
              "    </div>\n",
              "  </div>\n",
              "  "
            ],
            "text/plain": [
              "             pH       temp    rainfall   humidity  sowing_month       crop  \\\n",
              "0      6.063604  23.321508   77.461205  57.663885             7      maize   \n",
              "1      6.025738  35.878778  176.768842  63.309918             5       rice   \n",
              "2      6.488525  32.467820   88.932953  59.021547             6     cotton   \n",
              "3      6.059400  24.930039  121.643095  73.829977            10     coffee   \n",
              "4      5.679515  21.775325  232.020612  60.103052             6       rice   \n",
              "...         ...        ...         ...        ...           ...        ...   \n",
              "19995  5.625046  33.860422  246.112064  60.850606             6       rice   \n",
              "19996  5.263746  25.498666  269.220375  65.813790             4        tea   \n",
              "19997  6.288208  25.476959  176.037948  75.045343             5       jute   \n",
              "19998  6.254648  22.601163   74.121838  53.526233            11      wheat   \n",
              "19999  6.658074  29.968597  156.470580  56.610187            11  sugarcane   \n",
              "\n",
              "       soil_arid  soil_black  soil_laterite  soil_mountain  soil_redandyellow  \\\n",
              "0              0           1              0              0                  0   \n",
              "1              0           0              0              0                  0   \n",
              "2              0           0              1              0                  0   \n",
              "3              0           0              0              0                  1   \n",
              "4              0           0              0              0                  0   \n",
              "...          ...         ...            ...            ...                ...   \n",
              "19995          0           0              0              0                  0   \n",
              "19996          0           0              0              1                  0   \n",
              "19997          0           0              0              0                  0   \n",
              "19998          0           0              0              0                  0   \n",
              "19999          0           0              0              0                  1   \n",
              "\n",
              "       type_loam  type_sand  \n",
              "0              1          0  \n",
              "1              0          0  \n",
              "2              0          0  \n",
              "3              1          0  \n",
              "4              0          0  \n",
              "...          ...        ...  \n",
              "19995          0          0  \n",
              "19996          1          0  \n",
              "19997          0          0  \n",
              "19998          1          0  \n",
              "19999          1          0  \n",
              "\n",
              "[20000 rows x 13 columns]"
            ]
          },
          "execution_count": 79,
          "metadata": {},
          "output_type": "execute_result"
        }
      ],
      "source": [
        "data1"
      ]
    },
    {
      "cell_type": "code",
      "execution_count": null,
      "metadata": {
        "colab": {
          "base_uri": "https://localhost:8080/"
        },
        "id": "z0b9FkKpCPWy",
        "outputId": "47b4062c-5c36-441f-c98d-bfb13ec39222"
      },
      "outputs": [
        {
          "name": "stdout",
          "output_type": "stream",
          "text": [
            "shape of x: (20000, 12)\n",
            "shape of y: (20000,)\n"
          ]
        }
      ],
      "source": [
        "y=data1['crop']\n",
        "x=data1.drop(['crop'],axis=1)\n",
        "print(\"shape of x:\",x.shape)\n",
        "print(\"shape of y:\",y.shape)"
      ]
    },
    {
      "cell_type": "code",
      "execution_count": null,
      "metadata": {
        "colab": {
          "base_uri": "https://localhost:8080/"
        },
        "id": "LK7eB7heCnKk",
        "outputId": "32bd6312-d6c4-4888-f711-04b484e5ac1e"
      },
      "outputs": [
        {
          "name": "stdout",
          "output_type": "stream",
          "text": [
            "The shape of x train (16000, 12)\n",
            "The shape of y train (16000,)\n",
            "The shape of x test (4000, 12)\n",
            "The shape of y test (4000, 12)\n"
          ]
        }
      ],
      "source": [
        "from sklearn.model_selection import train_test_split\n",
        "x_train, x_test, y_train, y_test =train_test_split(x,y,test_size=0.2, random_state=0)\n",
        "print(\"The shape of x train\",x_train.shape)\n",
        "print(\"The shape of y train\",y_train.shape)\n",
        "print(\"The shape of x test\",x_test.shape)\n",
        "print(\"The shape of y test\",x_test.shape)"
      ]
    },
    {
      "cell_type": "code",
      "execution_count": null,
      "metadata": {
        "colab": {
          "base_uri": "https://localhost:8080/",
          "height": 176
        },
        "id": "hrtbOeYZFGUp",
        "outputId": "8238fc5d-bea9-445f-95d6-c32f2fd52a0e"
      },
      "outputs": [
        {
          "data": {
            "text/html": [
              "\n",
              "  <div id=\"df-f85edf10-60fe-44dd-9798-e6c0596f04d6\">\n",
              "    <div class=\"colab-df-container\">\n",
              "      <div>\n",
              "<style scoped>\n",
              "    .dataframe tbody tr th:only-of-type {\n",
              "        vertical-align: middle;\n",
              "    }\n",
              "\n",
              "    .dataframe tbody tr th {\n",
              "        vertical-align: top;\n",
              "    }\n",
              "\n",
              "    .dataframe thead th {\n",
              "        text-align: right;\n",
              "    }\n",
              "</style>\n",
              "<table border=\"1\" class=\"dataframe\">\n",
              "  <thead>\n",
              "    <tr style=\"text-align: right;\">\n",
              "      <th></th>\n",
              "      <th>pH</th>\n",
              "      <th>temp</th>\n",
              "      <th>rainfall</th>\n",
              "      <th>humidity</th>\n",
              "      <th>sowing_month</th>\n",
              "      <th>soil_arid</th>\n",
              "      <th>soil_black</th>\n",
              "      <th>soil_laterite</th>\n",
              "      <th>soil_mountain</th>\n",
              "      <th>soil_redandyellow</th>\n",
              "      <th>type_loam</th>\n",
              "      <th>type_sand</th>\n",
              "    </tr>\n",
              "  </thead>\n",
              "  <tbody>\n",
              "    <tr>\n",
              "      <th>19134</th>\n",
              "      <td>6.294879</td>\n",
              "      <td>27.059186</td>\n",
              "      <td>85.454276</td>\n",
              "      <td>59.718613</td>\n",
              "      <td>2</td>\n",
              "      <td>0</td>\n",
              "      <td>1</td>\n",
              "      <td>0</td>\n",
              "      <td>0</td>\n",
              "      <td>0</td>\n",
              "      <td>0</td>\n",
              "      <td>1</td>\n",
              "    </tr>\n",
              "    <tr>\n",
              "      <th>4981</th>\n",
              "      <td>5.415986</td>\n",
              "      <td>29.409754</td>\n",
              "      <td>175.176409</td>\n",
              "      <td>74.520988</td>\n",
              "      <td>2</td>\n",
              "      <td>0</td>\n",
              "      <td>0</td>\n",
              "      <td>0</td>\n",
              "      <td>1</td>\n",
              "      <td>0</td>\n",
              "      <td>0</td>\n",
              "      <td>0</td>\n",
              "    </tr>\n",
              "  </tbody>\n",
              "</table>\n",
              "</div>\n",
              "      <button class=\"colab-df-convert\" onclick=\"convertToInteractive('df-f85edf10-60fe-44dd-9798-e6c0596f04d6')\"\n",
              "              title=\"Convert this dataframe to an interactive table.\"\n",
              "              style=\"display:none;\">\n",
              "        \n",
              "  <svg xmlns=\"http://www.w3.org/2000/svg\" height=\"24px\"viewBox=\"0 0 24 24\"\n",
              "       width=\"24px\">\n",
              "    <path d=\"M0 0h24v24H0V0z\" fill=\"none\"/>\n",
              "    <path d=\"M18.56 5.44l.94 2.06.94-2.06 2.06-.94-2.06-.94-.94-2.06-.94 2.06-2.06.94zm-11 1L8.5 8.5l.94-2.06 2.06-.94-2.06-.94L8.5 2.5l-.94 2.06-2.06.94zm10 10l.94 2.06.94-2.06 2.06-.94-2.06-.94-.94-2.06-.94 2.06-2.06.94z\"/><path d=\"M17.41 7.96l-1.37-1.37c-.4-.4-.92-.59-1.43-.59-.52 0-1.04.2-1.43.59L10.3 9.45l-7.72 7.72c-.78.78-.78 2.05 0 2.83L4 21.41c.39.39.9.59 1.41.59.51 0 1.02-.2 1.41-.59l7.78-7.78 2.81-2.81c.8-.78.8-2.07 0-2.86zM5.41 20L4 18.59l7.72-7.72 1.47 1.35L5.41 20z\"/>\n",
              "  </svg>\n",
              "      </button>\n",
              "      \n",
              "  <style>\n",
              "    .colab-df-container {\n",
              "      display:flex;\n",
              "      flex-wrap:wrap;\n",
              "      gap: 12px;\n",
              "    }\n",
              "\n",
              "    .colab-df-convert {\n",
              "      background-color: #E8F0FE;\n",
              "      border: none;\n",
              "      border-radius: 50%;\n",
              "      cursor: pointer;\n",
              "      display: none;\n",
              "      fill: #1967D2;\n",
              "      height: 32px;\n",
              "      padding: 0 0 0 0;\n",
              "      width: 32px;\n",
              "    }\n",
              "\n",
              "    .colab-df-convert:hover {\n",
              "      background-color: #E2EBFA;\n",
              "      box-shadow: 0px 1px 2px rgba(60, 64, 67, 0.3), 0px 1px 3px 1px rgba(60, 64, 67, 0.15);\n",
              "      fill: #174EA6;\n",
              "    }\n",
              "\n",
              "    [theme=dark] .colab-df-convert {\n",
              "      background-color: #3B4455;\n",
              "      fill: #D2E3FC;\n",
              "    }\n",
              "\n",
              "    [theme=dark] .colab-df-convert:hover {\n",
              "      background-color: #434B5C;\n",
              "      box-shadow: 0px 1px 3px 1px rgba(0, 0, 0, 0.15);\n",
              "      filter: drop-shadow(0px 1px 2px rgba(0, 0, 0, 0.3));\n",
              "      fill: #FFFFFF;\n",
              "    }\n",
              "  </style>\n",
              "\n",
              "      <script>\n",
              "        const buttonEl =\n",
              "          document.querySelector('#df-f85edf10-60fe-44dd-9798-e6c0596f04d6 button.colab-df-convert');\n",
              "        buttonEl.style.display =\n",
              "          google.colab.kernel.accessAllowed ? 'block' : 'none';\n",
              "\n",
              "        async function convertToInteractive(key) {\n",
              "          const element = document.querySelector('#df-f85edf10-60fe-44dd-9798-e6c0596f04d6');\n",
              "          const dataTable =\n",
              "            await google.colab.kernel.invokeFunction('convertToInteractive',\n",
              "                                                     [key], {});\n",
              "          if (!dataTable) return;\n",
              "\n",
              "          const docLinkHtml = 'Like what you see? Visit the ' +\n",
              "            '<a target=\"_blank\" href=https://colab.research.google.com/notebooks/data_table.ipynb>data table notebook</a>'\n",
              "            + ' to learn more about interactive tables.';\n",
              "          element.innerHTML = '';\n",
              "          dataTable['output_type'] = 'display_data';\n",
              "          await google.colab.output.renderOutput(dataTable, element);\n",
              "          const docLink = document.createElement('div');\n",
              "          docLink.innerHTML = docLinkHtml;\n",
              "          element.appendChild(docLink);\n",
              "        }\n",
              "      </script>\n",
              "    </div>\n",
              "  </div>\n",
              "  "
            ],
            "text/plain": [
              "             pH       temp    rainfall   humidity  sowing_month  soil_arid  \\\n",
              "19134  6.294879  27.059186   85.454276  59.718613             2          0   \n",
              "4981   5.415986  29.409754  175.176409  74.520988             2          0   \n",
              "\n",
              "       soil_black  soil_laterite  soil_mountain  soil_redandyellow  type_loam  \\\n",
              "19134           1              0              0                  0          0   \n",
              "4981            0              0              1                  0          0   \n",
              "\n",
              "       type_sand  \n",
              "19134          1  \n",
              "4981           0  "
            ]
          },
          "execution_count": 88,
          "metadata": {},
          "output_type": "execute_result"
        }
      ],
      "source": [
        "x_test.head(2)"
      ]
    },
    {
      "cell_type": "code",
      "execution_count": null,
      "metadata": {
        "colab": {
          "base_uri": "https://localhost:8080/"
        },
        "id": "BQ_hcx67Crtl",
        "outputId": "c0b27af0-90b1-4200-d3dd-f784ba72381f"
      },
      "outputs": [
        {
          "name": "stdout",
          "output_type": "stream",
          "text": [
            "Accuracy: 87.1\n"
          ]
        },
        {
          "name": "stderr",
          "output_type": "stream",
          "text": [
            "/usr/local/lib/python3.8/dist-packages/sklearn/linear_model/_logistic.py:814: ConvergenceWarning: lbfgs failed to converge (status=1):\n",
            "STOP: TOTAL NO. of ITERATIONS REACHED LIMIT.\n",
            "\n",
            "Increase the number of iterations (max_iter) or scale the data as shown in:\n",
            "    https://scikit-learn.org/stable/modules/preprocessing.html\n",
            "Please also refer to the documentation for alternative solver options:\n",
            "    https://scikit-learn.org/stable/modules/linear_model.html#logistic-regression\n",
            "  n_iter_i = _check_optimize_result(\n"
          ]
        }
      ],
      "source": [
        "from sklearn.linear_model import LogisticRegression\n",
        "model=LogisticRegression()\n",
        "model.fit(x_train,y_train)\n",
        "y_pred=model.predict(x_test)\n",
        "Logistic_model=accuracy_score(y_pred,y_test)*100\n",
        "print(\"Accuracy:\",Logistic_model)\n"
      ]
    },
    {
      "cell_type": "code",
      "execution_count": null,
      "metadata": {
        "colab": {
          "base_uri": "https://localhost:8080/"
        },
        "id": "ktnpWynpC_La",
        "outputId": "6af6af66-6da4-49b3-aaab-3d32972740f2"
      },
      "outputs": [
        {
          "name": "stdout",
          "output_type": "stream",
          "text": [
            "Accuracy: 91.85\n"
          ]
        }
      ],
      "source": [
        "svm_model = SVC()\n",
        "svm_model.fit(x_train, y_train)\n",
        "y_pred = svm_model.predict(x_test)\n",
        "svm_model_acc = accuracy_score(y_pred, y_test) * 100\n",
        "print(\"Accuracy:\", svm_model_acc)"
      ]
    },
    {
      "cell_type": "code",
      "execution_count": null,
      "metadata": {
        "colab": {
          "base_uri": "https://localhost:8080/"
        },
        "id": "deoW47UWFsAq",
        "outputId": "84bc0a54-788b-44b4-f814-738cb3f2581f"
      },
      "outputs": [
        {
          "name": "stdout",
          "output_type": "stream",
          "text": [
            "The suggested crop is given climatic condition is: ['maize']\n"
          ]
        },
        {
          "name": "stderr",
          "output_type": "stream",
          "text": [
            "/usr/local/lib/python3.8/dist-packages/sklearn/base.py:450: UserWarning: X does not have valid feature names, but SVC was fitted with feature names\n",
            "  warnings.warn(\n"
          ]
        }
      ],
      "source": [
        "prediction=svm_model.predict((np.array([[6.6,\n",
        "                                     23,\n",
        "                                     77,\n",
        "                                     57,\n",
        "                                     7,\n",
        "                                     0,\n",
        "                                     1,\n",
        "                                     0,\n",
        "                                     0,\n",
        "                                     0,\n",
        "                                     1,\n",
        "                                     0]])))\n",
        "print(\"The suggested crop is given climatic condition is:\", prediction)"
      ]
    },
    {
      "cell_type": "code",
      "execution_count": null,
      "metadata": {
        "id": "g9VQGScUFmPp"
      },
      "outputs": [],
      "source": [
        "import pickle\n",
        "with open('model', 'wb') as files:\n",
        "    pickle.dump(svm_model, files)"
      ]
    }
  ],
  "metadata": {
    "colab": {
      "provenance": []
    },
    "kernelspec": {
      "display_name": "krishi-sevak",
      "language": "python",
      "name": "python3"
    },
    "language_info": {
      "name": "python",
      "version": "3.10.9"
    },
    "vscode": {
      "interpreter": {
        "hash": "c65b06f3092c0bbd8edef26fe4874e21314c6097bd95b7ee9f14a4825d58a3e0"
      }
    }
  },
  "nbformat": 4,
  "nbformat_minor": 0
}
