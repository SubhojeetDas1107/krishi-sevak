{
  "cells": [
    {
      "cell_type": "code",
      "execution_count": 1,
      "metadata": {
        "id": "d9B3ifWoMTo7"
      },
      "outputs": [
        {
          "ename": "ModuleNotFoundError",
          "evalue": "No module named 'numpy'",
          "output_type": "error",
          "traceback": [
            "\u001b[0;31m---------------------------------------------------------------------------\u001b[0m",
            "\u001b[0;31mModuleNotFoundError\u001b[0m                       Traceback (most recent call last)",
            "Cell \u001b[0;32mIn[1], line 1\u001b[0m\n\u001b[0;32m----> 1\u001b[0m \u001b[39mimport\u001b[39;00m \u001b[39mnumpy\u001b[39;00m \u001b[39mas\u001b[39;00m  \u001b[39mnp\u001b[39;00m\n\u001b[1;32m      2\u001b[0m \u001b[39mimport\u001b[39;00m \u001b[39mpandas\u001b[39;00m \u001b[39mas\u001b[39;00m \u001b[39mpd\u001b[39;00m\n\u001b[1;32m      3\u001b[0m \u001b[39mimport\u001b[39;00m \u001b[39mmatplotlib\u001b[39;00m\u001b[39m.\u001b[39;00m\u001b[39mpyplot\u001b[39;00m \u001b[39mas\u001b[39;00m \u001b[39mplt\u001b[39;00m\n",
            "\u001b[0;31mModuleNotFoundError\u001b[0m: No module named 'numpy'"
          ]
        }
      ],
      "source": [
        "import numpy as  np\n",
        "import pandas as pd\n",
        "import matplotlib.pyplot as plt\n",
        "import seaborn as sns \n",
        "from ipywidgets import interact"
      ]
    },
    {
      "cell_type": "code",
      "execution_count": 2,
      "metadata": {
        "colab": {
          "base_uri": "https://localhost:8080/"
        },
        "id": "FRe-fVeTy3OQ",
        "outputId": "8c97fac7-8832-4a69-affa-e8306277877a"
      },
      "outputs": [
        {
          "name": "stdout",
          "output_type": "stream",
          "text": [
            "Looking in indexes: https://pypi.org/simple, https://us-python.pkg.dev/colab-wheels/public/simple/\n",
            "Requirement already satisfied: scikit-learn in /usr/local/lib/python3.8/dist-packages (1.0.2)\n",
            "Requirement already satisfied: scipy>=1.1.0 in /usr/local/lib/python3.8/dist-packages (from scikit-learn) (1.7.3)\n",
            "Requirement already satisfied: joblib>=0.11 in /usr/local/lib/python3.8/dist-packages (from scikit-learn) (1.2.0)\n",
            "Requirement already satisfied: threadpoolctl>=2.0.0 in /usr/local/lib/python3.8/dist-packages (from scikit-learn) (3.1.0)\n",
            "Requirement already satisfied: numpy>=1.14.6 in /usr/local/lib/python3.8/dist-packages (from scikit-learn) (1.21.6)\n"
          ]
        }
      ],
      "source": [
        "!pip install scikit-learn "
      ]
    },
    {
      "cell_type": "code",
      "execution_count": 3,
      "metadata": {
        "id": "hSG3_h87yfIt"
      },
      "outputs": [],
      "source": [
        "# For predictive data analysis\n",
        "from sklearn.preprocessing import OneHotEncoder, LabelEncoder\n",
        "from sklearn.model_selection import train_test_split\n",
        "from sklearn.tree import DecisionTreeClassifier\n",
        "\n",
        "\n",
        "from sklearn.svm import SVC\n",
        "from sklearn.metrics import confusion_matrix, accuracy_score, precision_recall_curve "
      ]
    },
    {
      "cell_type": "code",
      "execution_count": null,
      "metadata": {
        "id": "hAO_CT1UP8BO"
      },
      "outputs": [],
      "source": [
        "data=pd.read_csv('/content/data (4).csv')"
      ]
    },
    {
      "cell_type": "code",
      "execution_count": null,
      "metadata": {
        "colab": {
          "base_uri": "https://localhost:8080/",
          "height": 206
        },
        "id": "tFRmLyJWQQ9Z",
        "outputId": "30e08ecf-c38d-47fd-b34d-fb05948920b3"
      },
      "outputs": [
        {
          "data": {
            "text/html": [
              "\n",
              "  <div id=\"df-8f78dddc-20eb-488d-8870-626bcf5eebf9\">\n",
              "    <div class=\"colab-df-container\">\n",
              "      <div>\n",
              "<style scoped>\n",
              "    .dataframe tbody tr th:only-of-type {\n",
              "        vertical-align: middle;\n",
              "    }\n",
              "\n",
              "    .dataframe tbody tr th {\n",
              "        vertical-align: top;\n",
              "    }\n",
              "\n",
              "    .dataframe thead th {\n",
              "        text-align: right;\n",
              "    }\n",
              "</style>\n",
              "<table border=\"1\" class=\"dataframe\">\n",
              "  <thead>\n",
              "    <tr style=\"text-align: right;\">\n",
              "      <th></th>\n",
              "      <th>N</th>\n",
              "      <th>P</th>\n",
              "      <th>K</th>\n",
              "      <th>temperature</th>\n",
              "      <th>humidity</th>\n",
              "      <th>ph</th>\n",
              "      <th>rainfall</th>\n",
              "      <th>label</th>\n",
              "    </tr>\n",
              "  </thead>\n",
              "  <tbody>\n",
              "    <tr>\n",
              "      <th>2195</th>\n",
              "      <td>107</td>\n",
              "      <td>34</td>\n",
              "      <td>32</td>\n",
              "      <td>26.774637</td>\n",
              "      <td>66.413269</td>\n",
              "      <td>6.780064</td>\n",
              "      <td>177.774507</td>\n",
              "      <td>coffee</td>\n",
              "    </tr>\n",
              "    <tr>\n",
              "      <th>2196</th>\n",
              "      <td>99</td>\n",
              "      <td>15</td>\n",
              "      <td>27</td>\n",
              "      <td>27.417112</td>\n",
              "      <td>56.636362</td>\n",
              "      <td>6.086922</td>\n",
              "      <td>127.924610</td>\n",
              "      <td>coffee</td>\n",
              "    </tr>\n",
              "    <tr>\n",
              "      <th>2197</th>\n",
              "      <td>118</td>\n",
              "      <td>33</td>\n",
              "      <td>30</td>\n",
              "      <td>24.131797</td>\n",
              "      <td>67.225123</td>\n",
              "      <td>6.362608</td>\n",
              "      <td>173.322839</td>\n",
              "      <td>coffee</td>\n",
              "    </tr>\n",
              "    <tr>\n",
              "      <th>2198</th>\n",
              "      <td>117</td>\n",
              "      <td>32</td>\n",
              "      <td>34</td>\n",
              "      <td>26.272418</td>\n",
              "      <td>52.127394</td>\n",
              "      <td>6.758793</td>\n",
              "      <td>127.175293</td>\n",
              "      <td>coffee</td>\n",
              "    </tr>\n",
              "    <tr>\n",
              "      <th>2199</th>\n",
              "      <td>104</td>\n",
              "      <td>18</td>\n",
              "      <td>30</td>\n",
              "      <td>23.603016</td>\n",
              "      <td>60.396475</td>\n",
              "      <td>6.779833</td>\n",
              "      <td>140.937041</td>\n",
              "      <td>coffee</td>\n",
              "    </tr>\n",
              "  </tbody>\n",
              "</table>\n",
              "</div>\n",
              "      <button class=\"colab-df-convert\" onclick=\"convertToInteractive('df-8f78dddc-20eb-488d-8870-626bcf5eebf9')\"\n",
              "              title=\"Convert this dataframe to an interactive table.\"\n",
              "              style=\"display:none;\">\n",
              "        \n",
              "  <svg xmlns=\"http://www.w3.org/2000/svg\" height=\"24px\"viewBox=\"0 0 24 24\"\n",
              "       width=\"24px\">\n",
              "    <path d=\"M0 0h24v24H0V0z\" fill=\"none\"/>\n",
              "    <path d=\"M18.56 5.44l.94 2.06.94-2.06 2.06-.94-2.06-.94-.94-2.06-.94 2.06-2.06.94zm-11 1L8.5 8.5l.94-2.06 2.06-.94-2.06-.94L8.5 2.5l-.94 2.06-2.06.94zm10 10l.94 2.06.94-2.06 2.06-.94-2.06-.94-.94-2.06-.94 2.06-2.06.94z\"/><path d=\"M17.41 7.96l-1.37-1.37c-.4-.4-.92-.59-1.43-.59-.52 0-1.04.2-1.43.59L10.3 9.45l-7.72 7.72c-.78.78-.78 2.05 0 2.83L4 21.41c.39.39.9.59 1.41.59.51 0 1.02-.2 1.41-.59l7.78-7.78 2.81-2.81c.8-.78.8-2.07 0-2.86zM5.41 20L4 18.59l7.72-7.72 1.47 1.35L5.41 20z\"/>\n",
              "  </svg>\n",
              "      </button>\n",
              "      \n",
              "  <style>\n",
              "    .colab-df-container {\n",
              "      display:flex;\n",
              "      flex-wrap:wrap;\n",
              "      gap: 12px;\n",
              "    }\n",
              "\n",
              "    .colab-df-convert {\n",
              "      background-color: #E8F0FE;\n",
              "      border: none;\n",
              "      border-radius: 50%;\n",
              "      cursor: pointer;\n",
              "      display: none;\n",
              "      fill: #1967D2;\n",
              "      height: 32px;\n",
              "      padding: 0 0 0 0;\n",
              "      width: 32px;\n",
              "    }\n",
              "\n",
              "    .colab-df-convert:hover {\n",
              "      background-color: #E2EBFA;\n",
              "      box-shadow: 0px 1px 2px rgba(60, 64, 67, 0.3), 0px 1px 3px 1px rgba(60, 64, 67, 0.15);\n",
              "      fill: #174EA6;\n",
              "    }\n",
              "\n",
              "    [theme=dark] .colab-df-convert {\n",
              "      background-color: #3B4455;\n",
              "      fill: #D2E3FC;\n",
              "    }\n",
              "\n",
              "    [theme=dark] .colab-df-convert:hover {\n",
              "      background-color: #434B5C;\n",
              "      box-shadow: 0px 1px 3px 1px rgba(0, 0, 0, 0.15);\n",
              "      filter: drop-shadow(0px 1px 2px rgba(0, 0, 0, 0.3));\n",
              "      fill: #FFFFFF;\n",
              "    }\n",
              "  </style>\n",
              "\n",
              "      <script>\n",
              "        const buttonEl =\n",
              "          document.querySelector('#df-8f78dddc-20eb-488d-8870-626bcf5eebf9 button.colab-df-convert');\n",
              "        buttonEl.style.display =\n",
              "          google.colab.kernel.accessAllowed ? 'block' : 'none';\n",
              "\n",
              "        async function convertToInteractive(key) {\n",
              "          const element = document.querySelector('#df-8f78dddc-20eb-488d-8870-626bcf5eebf9');\n",
              "          const dataTable =\n",
              "            await google.colab.kernel.invokeFunction('convertToInteractive',\n",
              "                                                     [key], {});\n",
              "          if (!dataTable) return;\n",
              "\n",
              "          const docLinkHtml = 'Like what you see? Visit the ' +\n",
              "            '<a target=\"_blank\" href=https://colab.research.google.com/notebooks/data_table.ipynb>data table notebook</a>'\n",
              "            + ' to learn more about interactive tables.';\n",
              "          element.innerHTML = '';\n",
              "          dataTable['output_type'] = 'display_data';\n",
              "          await google.colab.output.renderOutput(dataTable, element);\n",
              "          const docLink = document.createElement('div');\n",
              "          docLink.innerHTML = docLinkHtml;\n",
              "          element.appendChild(docLink);\n",
              "        }\n",
              "      </script>\n",
              "    </div>\n",
              "  </div>\n",
              "  "
            ],
            "text/plain": [
              "        N   P   K  temperature   humidity        ph    rainfall   label\n",
              "2195  107  34  32    26.774637  66.413269  6.780064  177.774507  coffee\n",
              "2196   99  15  27    27.417112  56.636362  6.086922  127.924610  coffee\n",
              "2197  118  33  30    24.131797  67.225123  6.362608  173.322839  coffee\n",
              "2198  117  32  34    26.272418  52.127394  6.758793  127.175293  coffee\n",
              "2199  104  18  30    23.603016  60.396475  6.779833  140.937041  coffee"
            ]
          },
          "execution_count": 38,
          "metadata": {},
          "output_type": "execute_result"
        }
      ],
      "source": [
        "data.tail()"
      ]
    },
    {
      "cell_type": "code",
      "execution_count": null,
      "metadata": {
        "colab": {
          "base_uri": "https://localhost:8080/"
        },
        "id": "sr26e2nnQVPM",
        "outputId": "996fffcd-32b4-4628-ce99-fb43c378ef38"
      },
      "outputs": [
        {
          "name": "stdout",
          "output_type": "stream",
          "text": [
            "shape of dataset: (2200, 8)\n"
          ]
        }
      ],
      "source": [
        "print(\"shape of dataset:\",data.shape)"
      ]
    },
    {
      "cell_type": "code",
      "execution_count": null,
      "metadata": {
        "colab": {
          "base_uri": "https://localhost:8080/"
        },
        "id": "diBKMIWGQmat",
        "outputId": "7a2b86a9-4faa-4d4b-8173-03e556618f68"
      },
      "outputs": [
        {
          "data": {
            "text/plain": [
              "N              0\n",
              "P              0\n",
              "K              0\n",
              "temperature    0\n",
              "humidity       0\n",
              "ph             0\n",
              "rainfall       0\n",
              "label          0\n",
              "dtype: int64"
            ]
          },
          "execution_count": 40,
          "metadata": {},
          "output_type": "execute_result"
        }
      ],
      "source": [
        "data.isnull().sum()"
      ]
    },
    {
      "cell_type": "code",
      "execution_count": null,
      "metadata": {
        "colab": {
          "base_uri": "https://localhost:8080/"
        },
        "id": "IgZfPxlHQmXj",
        "outputId": "e2309f10-0684-4494-c5c4-732efd9df38d"
      },
      "outputs": [
        {
          "data": {
            "text/plain": [
              "rice           100\n",
              "maize          100\n",
              "jute           100\n",
              "cotton         100\n",
              "coconut        100\n",
              "papaya         100\n",
              "orange         100\n",
              "apple          100\n",
              "muskmelon      100\n",
              "watermelon     100\n",
              "grapes         100\n",
              "mango          100\n",
              "banana         100\n",
              "pomegranate    100\n",
              "lentil         100\n",
              "blackgram      100\n",
              "mungbean       100\n",
              "mothbeans      100\n",
              "pigeonpeas     100\n",
              "kidneybeans    100\n",
              "chickpea       100\n",
              "coffee         100\n",
              "Name: label, dtype: int64"
            ]
          },
          "execution_count": 41,
          "metadata": {},
          "output_type": "execute_result"
        }
      ],
      "source": [
        "data['label'].value_counts()"
      ]
    },
    {
      "cell_type": "code",
      "execution_count": null,
      "metadata": {
        "colab": {
          "base_uri": "https://localhost:8080/"
        },
        "id": "1aVVRzVGQmU7",
        "outputId": "83a76388-5300-4d34-f22b-0ec72f0c3217"
      },
      "outputs": [
        {
          "name": "stdout",
          "output_type": "stream",
          "text": [
            "Avarage Ratio of Nitrogen in the soil: 50.55\n",
            "Avarage Ratio of Phosphorous in the soil: 53.36\n",
            "Avarage Ratio of Potasium in the soil: 48.15\n",
            "Avarage Temperature in Celsius: 25.62\n",
            "Avarage Relative Humidity in %: 71.48\n",
            "Avarage pH Value of the soil: 6.47\n",
            "Avarage Rain fall in mm: 103.46\n"
          ]
        }
      ],
      "source": [
        "print(\"Avarage Ratio of Nitrogen in the soil: {0:.2f}\".format(data['N'].mean()))\n",
        "print(\"Avarage Ratio of Phosphorous in the soil: {0:.2f}\".format(data['P'].mean()))\n",
        "print(\"Avarage Ratio of Potasium in the soil: {0:.2f}\".format(data['K'].mean()))\n",
        "print(\"Avarage Temperature in Celsius: {0:.2f}\".format(data['temperature'].mean()))\n",
        "print(\"Avarage Relative Humidity in %: {0:.2f}\".format(data['humidity'].mean()))\n",
        "print(\"Avarage pH Value of the soil: {0:.2f}\".format(data['ph'].mean()))\n",
        "print(\"Avarage Rain fall in mm: {0:.2f}\".format(data['rainfall'].mean()))"
      ]
    },
    {
      "cell_type": "code",
      "execution_count": null,
      "metadata": {
        "colab": {
          "base_uri": "https://localhost:8080/",
          "height": 656,
          "referenced_widgets": [
            "2ddd97f9bbfa41f4b225c392fbac07bb",
            "1c2234bd57654149ad5f1360cc68fd6c",
            "a8fb9f63bdc746e9b158bff2d460435f",
            "e21ad6f7805e47aabc877c9713e8f97c",
            "59786bab16b142a08cdde91ddb2c71b1",
            "29c1362ff72a40cfafd55fa05cda407d",
            "cbbd578005d04b53bd4919ac2c0922e4"
          ]
        },
        "id": "zXCIXeEPQmSj",
        "outputId": "182acf84-2ea2-48a9-add8-7a303d18e1a1"
      },
      "outputs": [
        {
          "data": {
            "application/vnd.jupyter.widget-view+json": {
              "model_id": "2ddd97f9bbfa41f4b225c392fbac07bb",
              "version_major": 2,
              "version_minor": 0
            },
            "text/plain": [
              "interactive(children=(Dropdown(description='crops', options=('rice', 'maize', 'jute', 'cotton', 'coconut', 'pa…"
            ]
          },
          "metadata": {},
          "output_type": "display_data"
        }
      ],
      "source": [
        "@interact\n",
        "def summary(crops=list(data['label'].value_counts().index)):\n",
        "  x=data[data['label']==crops]\n",
        "  print(\"........................................\")\n",
        "  print(\"Statistic for Nitrogen\")\n",
        "  print(\"Minimum Nitrogen required:\",x['N'].min())\n",
        "  print(\"Avarage Nitrogen required:\",x['N'].mean())\n",
        "  print(\"MMaximum Nitrogen required:\",x['N'].max())\n",
        "  print(\"........................................\")\n",
        "  print(\"Statistic for Phosphorous\")\n",
        "  print(\"Minimum Phosphorous required:\",x['P'].min())\n",
        "  print(\"Avarage Phosphorous required:\",x['P'].mean())\n",
        "  print(\"MMaximum Phosphorous required:\",x['P'].max())\n",
        "  print(\"........................................\")\n",
        "  print(\"Statistic for Potassium\")\n",
        "  print(\"Minimum Potassium required:\",x['K'].min())\n",
        "  print(\"Avarage Potassium required:\",x['K'].mean())\n",
        "  print(\"Maximum Potassium required:\",x['K'].max())\n",
        "  print(\"........................................\")\n",
        "  print(\"Statistic for Temperature\")\n",
        "  print(\"Minimum Temperature required:{0:2f}\".format(x['temperature'].min()))\n",
        "  print(\"Avarage Temperature required:{0:2f}\".format(x['temperature'].mean()))\n",
        "  print(\"Maximum Temperature required:{0:2f}\".format(x['temperature'].max()))\n",
        "  print(\"........................................\")\n",
        "  print(\"Statistic for humidity\")\n",
        "  print(\"Minimum humidity required:{0:2f}\".format(x['humidity'].min()))\n",
        "  print(\"Avarage humidity required:{0:2f}\".format(x['humidity'].mean()))\n",
        "  print(\"Maximum humidity required:{0:2f}\".format(x['humidity'].max()))\n",
        "  print(\"........................................\")\n",
        "  print(\"Statistic for ph\")\n",
        "  print(\"Minimum ph required:{0:2f}\".format(x['ph'].min()))\n",
        "  print(\"Avarage ph required:{0:2f}\".format(x['ph'].mean()))\n",
        "  print(\"Maximum ph required:{0:2f}\".format(x['ph'].max()))\n",
        "  print(\"........................................\")\n",
        "  print(\"Statistic for rainfall\")\n",
        "  print(\"Minimum rainfall required:{0:2f}\".format(x['rainfall'].min()))\n",
        "  print(\"Avarage rainfall required:{0:2f}\".format(x['rainfall'].mean()))\n",
        "  print(\"Maximum rainfall required:{0:2f}\".format(x['rainfall'].max()))"
      ]
    },
    {
      "cell_type": "code",
      "execution_count": null,
      "metadata": {
        "colab": {
          "base_uri": "https://localhost:8080/",
          "height": 448,
          "referenced_widgets": [
            "a18311a756484d10b6d7c73b4bcdf409",
            "cb66884da6e44e48bca63a3f7cbb7b6a",
            "385798406ea64c979da34ed53dfaa7e6",
            "3807f4ad8614486c8bc8258cfe810c64",
            "374660fad62246e086b83b9e31e5f3b4",
            "12ab78a522fd4e55b9caa8d92ab769a9",
            "d4aeb0725363436790ec65e231c6ce58"
          ]
        },
        "id": "e6Tb73lOQmP2",
        "outputId": "98ec0ac4-650b-419f-dd43-759fa52336bc"
      },
      "outputs": [
        {
          "data": {
            "application/vnd.jupyter.widget-view+json": {
              "model_id": "a18311a756484d10b6d7c73b4bcdf409",
              "version_major": 2,
              "version_minor": 0
            },
            "text/plain": [
              "interactive(children=(Dropdown(description='conditions', options=('N', 'P', 'K', 'temperature', 'ph', 'humidit…"
            ]
          },
          "metadata": {},
          "output_type": "display_data"
        }
      ],
      "source": [
        "@interact\n",
        "def compare(conditions=['N','P','K','temperature','ph','humidity','rainfall']):\n",
        "  print(\"Average Value for\",conditions,\"is {0:.2f}\".format(data[conditions].mean()))\n",
        "  print(\".............................................\")\n",
        "  print(\"Rice : {0:.2f}\".format(data[(data['label']=='rice')][conditions].mean()))\n",
        "  print(\"Black Grams : {0:.2f}\".format(data[(data['label']=='blackgram')][conditions].mean()))\n",
        "  print(\"Banana : {0:.2f}\".format(data[(data['label']=='banana')][conditions].mean()))\n",
        "  print(\"Jute : {0:.2f}\".format(data[(data['label']=='jute')][conditions].mean()))\n",
        "  print(\"Coconut : {0:.2f}\".format(data[(data['label']=='coconut')][conditions].mean()))\n",
        "  print(\"Apple : {0:.2f}\".format(data[(data['label']=='apple')][conditions].mean()))\n",
        "  print(\"Papaya : {0:.2f}\".format(data[(data['label']=='jute')][conditions].mean()))  \n",
        "  print(\"Muskmelon : {0:.2f}\".format(data[(data['label']=='muskmelon')][conditions].mean()))\n",
        "  print(\"Wataermelon : {0:.2f}\".format(data[(data['label']=='watermelon')][conditions].mean()))\n",
        "  print(\"Kidney Beans : {0:.2f}\".format(data[(data['label']=='kindeybeans')][conditions].mean()))\n",
        "  print(\"Mung Beans : {0:.2f}\".format(data[(data['label']=='mungbean')][conditions].mean()))\n",
        "  print(\"Oranges : {0:.2f}\".format(data[(data['label']=='oranges')][conditions].mean()))\n",
        "  print(\"Chick Peas : {0:.2f}\".format(data[(data['label']=='chickpea')][conditions].mean()))\n",
        "  print(\"Lentils : {0:.2f}\".format(data[(data['label']=='lentils')][conditions].mean()))\n",
        "  print(\"Cotton : {0:.2f}\".format(data[(data['label']=='cotton')][conditions].mean()))\n",
        "  print(\"Maize : {0:.2f}\".format(data[(data['label']=='maize')][conditions].mean()))\n",
        "  print(\"Moth Beans : {0:.2f}\".format(data[(data['label']=='mothbeans')][conditions].mean()))\n",
        "  print(\"Pigeon Peas : {0:.2f}\".format(data[(data['label']=='pigeonpeas')][conditions].mean()))\n",
        "  print(\"Mango : {0:.2f}\".format(data[(data['label']=='mango')][conditions].mean()))\n",
        "  print(\"Pomegranate : {0:.2f}\".format(data[(data['label']=='pomegranate')][conditions].mean()))\n",
        "  print(\"Coffee : {0:.2f}\".format(data[(data['label']=='coffee')][conditions].mean()))"
      ]
    },
    {
      "cell_type": "code",
      "execution_count": null,
      "metadata": {
        "colab": {
          "base_uri": "https://localhost:8080/",
          "height": 223,
          "referenced_widgets": [
            "eec8bd550c5d482f8ff7cb570ab65f1e",
            "42f96f85138c4be1904ef4d534c5dba8",
            "c08162f6a7b4494aa9f017182b00ac48",
            "26e77d4b081f44559962e84df56da300",
            "16f46c855d94447e811bfeef89ef39f1",
            "01e0a4831ac64663b78cdd45871bd848",
            "6e1f4b6688b04353b7d7bae48a377c2a"
          ]
        },
        "id": "kq36lbjfQmNp",
        "outputId": "01a9083d-733b-4d77-9f8c-3e3e7bc80695"
      },
      "outputs": [
        {
          "data": {
            "application/vnd.jupyter.widget-view+json": {
              "model_id": "eec8bd550c5d482f8ff7cb570ab65f1e",
              "version_major": 2,
              "version_minor": 0
            },
            "text/plain": [
              "interactive(children=(Dropdown(description='conditions', options=('N', 'P', 'K', 'temperature', 'ph', 'humidit…"
            ]
          },
          "metadata": {},
          "output_type": "display_data"
        }
      ],
      "source": [
        "@interact\n",
        "def compare(conditions=['N','P','K','temperature','ph','humidity','rainfall']):\n",
        "  print(\"Crops which require greater than average\",conditions,'\\n')\n",
        "  print(data[data[conditions] > data[conditions].mean()]['label'].unique())\n",
        "  print(\"..................................\")\n",
        "  print(\"Crops which require less than average\",conditions,'\\n')\n",
        "  print(data[data[conditions] <= data[conditions].mean()]['label'].unique())"
      ]
    },
    {
      "cell_type": "code",
      "execution_count": null,
      "metadata": {
        "colab": {
          "base_uri": "https://localhost:8080/",
          "height": 930
        },
        "id": "2_a6wyi0QmLE",
        "outputId": "42f0b23b-4e20-4091-b699-9c5fd787554f"
      },
      "outputs": [
        {
          "data": {
            "image/png": "[encoded data removed]",
            "text/plain": [
              "<Figure size 1080x504 with 1 Axes>"
            ]
          },
          "metadata": {
            "needs_background": "light"
          },
          "output_type": "display_data"
        },
        {
          "data": {
            "image/png": "[encoded data removed]",
            "text/plain": [
              "<Figure size 360x360 with 1 Axes>"
            ]
          },
          "metadata": {
            "needs_background": "light"
          },
          "output_type": "display_data"
        },
        {
          "data": {
            "image/png": "[encoded data removed]",
            "text/plain": [
              "<Figure size 360x360 with 1 Axes>"
            ]
          },
          "metadata": {
            "needs_background": "light"
          },
          "output_type": "display_data"
        },
        {
          "data": {
            "image/png": "[encoded data removed]",
            "text/plain": [
              "<Figure size 360x360 with 1 Axes>"
            ]
          },
          "metadata": {
            "needs_background": "light"
          },
          "output_type": "display_data"
        }
      ],
      "source": [
        "plt.rcParams['figure.figsize'] = (15,7)\n",
        "plt.subplot(2,4,1)\n",
        "sns.displot(data['N'],color=\"lightgrey\")\n",
        "plt.xlabel('Ratio of Nitrogen',fontsize=12)\n",
        "plt.grid()\n",
        "\n",
        "plt.subplot(2,4,1)\n",
        "sns.displot(data['P'],color=\"skyblue\")\n",
        "plt.xlabel('Ratio of Phosphorous',fontsize=12)\n",
        "plt.grid()\n",
        "\n",
        "plt.subplot(2,4,1)\n",
        "sns.displot(data['K'],color=\"skyblue\")\n",
        "plt.xlabel('Ratio of Potassium ',fontsize=12)\n",
        "plt.grid()"
      ]
    },
    {
      "cell_type": "code",
      "execution_count": null,
      "metadata": {
        "colab": {
          "base_uri": "https://localhost:8080/"
        },
        "id": "DujWR9FjQmIf",
        "outputId": "07050c27-8de2-4393-832a-10354a92af9a"
      },
      "outputs": [
        {
          "name": "stdout",
          "output_type": "stream",
          "text": [
            "Some Intersting Patterns\n",
            ".................................\n",
            "Crops which requiers very High Ratio of Nitrogen Content in Soil: ['cotton']\n",
            "Crops which requiers very High Ratio of Phosphorous Content in Soil: ['grapes' 'apple']\n",
            "Crops which requiers very High Ratio of Potassium Content in Soil: ['grapes' 'apple']\n",
            "Crops which requiers very High Rainfall: ['rice' 'kidneybeans' 'pigeonpeas' 'apple' 'papaya' 'coconut' 'jute'\n",
            " 'coffee']\n",
            "Crops which requiers very High  temperature : ['grapes']\n",
            "Crops which requiers very low temperature : ['grapes' 'papaya']\n",
            "Crops which requiers very  low humidity : ['chickpea' 'kidneybeans']\n"
          ]
        }
      ],
      "source": [
        "print(\"Some Intersting Patterns\")\n",
        "print(\".................................\")\n",
        "print(\"Crops which requiers very High Ratio of Nitrogen Content in Soil:\",data[data['N']>120]['label'].unique())\n",
        "print(\"Crops which requiers very High Ratio of Phosphorous Content in Soil:\",data[data['P']>100]['label'].unique())\n",
        "print(\"Crops which requiers very High Ratio of Potassium Content in Soil:\",data[data['K']>200]['label'].unique())\n",
        "print(\"Crops which requiers very High Rainfall:\",data[data['rainfall']>120]['label'].unique())\n",
        "print(\"Crops which requiers very High  temperature :\",data[data['temperature']<10]['label'].unique())\n",
        "print(\"Crops which requiers very low temperature :\",data[data['temperature']>40]['label'].unique())\n",
        "print(\"Crops which requiers very  low humidity :\",data[data['humidity']<20]['label'].unique())\n"
      ]
    },
    {
      "cell_type": "code",
      "execution_count": null,
      "metadata": {
        "colab": {
          "base_uri": "https://localhost:8080/"
        },
        "id": "6PKO8U8YQmF_",
        "outputId": "29ba1742-b540-4277-ee0a-4a98997fa039"
      },
      "outputs": [
        {
          "name": "stdout",
          "output_type": "stream",
          "text": [
            "Summer Crops\n",
            "['pigeonpeas' 'mothbeans' 'blackgram' 'mango' 'grapes' 'orange' 'papaya']\n",
            "..................................\n",
            "Wintwer Crops\n",
            "['maize' 'pigeonpeas' 'lentil' 'pomegranate' 'grapes' 'orange']\n",
            "..................................\n",
            "Rainy Crops\n",
            "['rice' 'papaya' 'coconut']\n"
          ]
        }
      ],
      "source": [
        "print(\"Summer Crops\")\n",
        "print(data[(data['temperature'] >30) & (data['humidity'] >50)]['label'].unique())\n",
        "print(\"..................................\")\n",
        "print(\"Wintwer Crops\")\n",
        "print(data[(data['temperature'] <20) & (data['humidity'] >30)]['label'].unique())\n",
        "print(\"..................................\")\n",
        "print(\"Rainy Crops\")\n",
        "print(data[(data['rainfall'] >200) & (data['humidity'] >50)]['label'].unique())\n",
        "\n",
        "\n"
      ]
    },
    {
      "cell_type": "code",
      "execution_count": null,
      "metadata": {
        "colab": {
          "base_uri": "https://localhost:8080/",
          "height": 223
        },
        "id": "8e7d71mWAEaw",
        "outputId": "7a5d1ded-a514-4138-e601-2a2047103a06"
      },
      "outputs": [
        {
          "name": "stdout",
          "output_type": "stream",
          "text": [
            "(2200, 7)\n"
          ]
        },
        {
          "data": {
            "text/html": [
              "\n",
              "  <div id=\"df-0e709575-e7bb-46ac-a902-5a6e4ace15ed\">\n",
              "    <div class=\"colab-df-container\">\n",
              "      <div>\n",
              "<style scoped>\n",
              "    .dataframe tbody tr th:only-of-type {\n",
              "        vertical-align: middle;\n",
              "    }\n",
              "\n",
              "    .dataframe tbody tr th {\n",
              "        vertical-align: top;\n",
              "    }\n",
              "\n",
              "    .dataframe thead th {\n",
              "        text-align: right;\n",
              "    }\n",
              "</style>\n",
              "<table border=\"1\" class=\"dataframe\">\n",
              "  <thead>\n",
              "    <tr style=\"text-align: right;\">\n",
              "      <th></th>\n",
              "      <th>0</th>\n",
              "      <th>1</th>\n",
              "      <th>2</th>\n",
              "      <th>3</th>\n",
              "      <th>4</th>\n",
              "      <th>5</th>\n",
              "      <th>6</th>\n",
              "    </tr>\n",
              "  </thead>\n",
              "  <tbody>\n",
              "    <tr>\n",
              "      <th>0</th>\n",
              "      <td>90.0</td>\n",
              "      <td>42.0</td>\n",
              "      <td>43.0</td>\n",
              "      <td>20.879744</td>\n",
              "      <td>82.002744</td>\n",
              "      <td>6.502985</td>\n",
              "      <td>202.935536</td>\n",
              "    </tr>\n",
              "    <tr>\n",
              "      <th>1</th>\n",
              "      <td>85.0</td>\n",
              "      <td>58.0</td>\n",
              "      <td>41.0</td>\n",
              "      <td>21.770462</td>\n",
              "      <td>80.319644</td>\n",
              "      <td>7.038096</td>\n",
              "      <td>226.655537</td>\n",
              "    </tr>\n",
              "    <tr>\n",
              "      <th>2</th>\n",
              "      <td>60.0</td>\n",
              "      <td>55.0</td>\n",
              "      <td>44.0</td>\n",
              "      <td>23.004459</td>\n",
              "      <td>82.320763</td>\n",
              "      <td>7.840207</td>\n",
              "      <td>263.964248</td>\n",
              "    </tr>\n",
              "    <tr>\n",
              "      <th>3</th>\n",
              "      <td>74.0</td>\n",
              "      <td>35.0</td>\n",
              "      <td>40.0</td>\n",
              "      <td>26.491096</td>\n",
              "      <td>80.158363</td>\n",
              "      <td>6.980401</td>\n",
              "      <td>242.864034</td>\n",
              "    </tr>\n",
              "    <tr>\n",
              "      <th>4</th>\n",
              "      <td>78.0</td>\n",
              "      <td>42.0</td>\n",
              "      <td>42.0</td>\n",
              "      <td>20.130175</td>\n",
              "      <td>81.604873</td>\n",
              "      <td>7.628473</td>\n",
              "      <td>262.717340</td>\n",
              "    </tr>\n",
              "  </tbody>\n",
              "</table>\n",
              "</div>\n",
              "      <button class=\"colab-df-convert\" onclick=\"convertToInteractive('df-0e709575-e7bb-46ac-a902-5a6e4ace15ed')\"\n",
              "              title=\"Convert this dataframe to an interactive table.\"\n",
              "              style=\"display:none;\">\n",
              "        \n",
              "  <svg xmlns=\"http://www.w3.org/2000/svg\" height=\"24px\"viewBox=\"0 0 24 24\"\n",
              "       width=\"24px\">\n",
              "    <path d=\"M0 0h24v24H0V0z\" fill=\"none\"/>\n",
              "    <path d=\"M18.56 5.44l.94 2.06.94-2.06 2.06-.94-2.06-.94-.94-2.06-.94 2.06-2.06.94zm-11 1L8.5 8.5l.94-2.06 2.06-.94-2.06-.94L8.5 2.5l-.94 2.06-2.06.94zm10 10l.94 2.06.94-2.06 2.06-.94-2.06-.94-.94-2.06-.94 2.06-2.06.94z\"/><path d=\"M17.41 7.96l-1.37-1.37c-.4-.4-.92-.59-1.43-.59-.52 0-1.04.2-1.43.59L10.3 9.45l-7.72 7.72c-.78.78-.78 2.05 0 2.83L4 21.41c.39.39.9.59 1.41.59.51 0 1.02-.2 1.41-.59l7.78-7.78 2.81-2.81c.8-.78.8-2.07 0-2.86zM5.41 20L4 18.59l7.72-7.72 1.47 1.35L5.41 20z\"/>\n",
              "  </svg>\n",
              "      </button>\n",
              "      \n",
              "  <style>\n",
              "    .colab-df-container {\n",
              "      display:flex;\n",
              "      flex-wrap:wrap;\n",
              "      gap: 12px;\n",
              "    }\n",
              "\n",
              "    .colab-df-convert {\n",
              "      background-color: #E8F0FE;\n",
              "      border: none;\n",
              "      border-radius: 50%;\n",
              "      cursor: pointer;\n",
              "      display: none;\n",
              "      fill: #1967D2;\n",
              "      height: 32px;\n",
              "      padding: 0 0 0 0;\n",
              "      width: 32px;\n",
              "    }\n",
              "\n",
              "    .colab-df-convert:hover {\n",
              "      background-color: #E2EBFA;\n",
              "      box-shadow: 0px 1px 2px rgba(60, 64, 67, 0.3), 0px 1px 3px 1px rgba(60, 64, 67, 0.15);\n",
              "      fill: #174EA6;\n",
              "    }\n",
              "\n",
              "    [theme=dark] .colab-df-convert {\n",
              "      background-color: #3B4455;\n",
              "      fill: #D2E3FC;\n",
              "    }\n",
              "\n",
              "    [theme=dark] .colab-df-convert:hover {\n",
              "      background-color: #434B5C;\n",
              "      box-shadow: 0px 1px 3px 1px rgba(0, 0, 0, 0.15);\n",
              "      filter: drop-shadow(0px 1px 2px rgba(0, 0, 0, 0.3));\n",
              "      fill: #FFFFFF;\n",
              "    }\n",
              "  </style>\n",
              "\n",
              "      <script>\n",
              "        const buttonEl =\n",
              "          document.querySelector('#df-0e709575-e7bb-46ac-a902-5a6e4ace15ed button.colab-df-convert');\n",
              "        buttonEl.style.display =\n",
              "          google.colab.kernel.accessAllowed ? 'block' : 'none';\n",
              "\n",
              "        async function convertToInteractive(key) {\n",
              "          const element = document.querySelector('#df-0e709575-e7bb-46ac-a902-5a6e4ace15ed');\n",
              "          const dataTable =\n",
              "            await google.colab.kernel.invokeFunction('convertToInteractive',\n",
              "                                                     [key], {});\n",
              "          if (!dataTable) return;\n",
              "\n",
              "          const docLinkHtml = 'Like what you see? Visit the ' +\n",
              "            '<a target=\"_blank\" href=https://colab.research.google.com/notebooks/data_table.ipynb>data table notebook</a>'\n",
              "            + ' to learn more about interactive tables.';\n",
              "          element.innerHTML = '';\n",
              "          dataTable['output_type'] = 'display_data';\n",
              "          await google.colab.output.renderOutput(dataTable, element);\n",
              "          const docLink = document.createElement('div');\n",
              "          docLink.innerHTML = docLinkHtml;\n",
              "          element.appendChild(docLink);\n",
              "        }\n",
              "      </script>\n",
              "    </div>\n",
              "  </div>\n",
              "  "
            ],
            "text/plain": [
              "      0     1     2          3          4         5           6\n",
              "0  90.0  42.0  43.0  20.879744  82.002744  6.502985  202.935536\n",
              "1  85.0  58.0  41.0  21.770462  80.319644  7.038096  226.655537\n",
              "2  60.0  55.0  44.0  23.004459  82.320763  7.840207  263.964248\n",
              "3  74.0  35.0  40.0  26.491096  80.158363  6.980401  242.864034\n",
              "4  78.0  42.0  42.0  20.130175  81.604873  7.628473  262.717340"
            ]
          },
          "execution_count": 49,
          "metadata": {},
          "output_type": "execute_result"
        }
      ],
      "source": [
        "from sklearn.cluster import KMeans\n",
        "kmeans = KMeans(init='k-means++')\n",
        "import warnings\n",
        "warnings.filterwarnings('ignore')\n",
        "x=data.loc[:,['N','P','K','temperature','humidity','ph','rainfall']].values\n",
        "print(x.shape)\n",
        "x_data=pd.DataFrame(x)\n",
        "x_data.head()"
      ]
    },
    {
      "cell_type": "code",
      "execution_count": null,
      "metadata": {
        "colab": {
          "base_uri": "https://localhost:8080/"
        },
        "id": "7fXT9VFVUBN-",
        "outputId": "343b6130-a33c-4203-8280-15ccab6f44e6"
      },
      "outputs": [
        {
          "name": "stdout",
          "output_type": "stream",
          "text": [
            "Crop in first cluster : ['maize' 'chickpea' 'kidneybeans' 'pigeonpeas' 'mothbeans' 'mungbean'\n",
            " 'blackgram' 'lentil' 'pomegranate' 'mango' 'orange' 'papaya' 'coconut']\n",
            "Crop in first cluster : ['maize' 'banana' 'watermelon' 'muskmelon' 'papaya' 'cotton' 'coffee']\n",
            "Crop in first cluster : ['grapes' 'apple']\n",
            "Crop in first cluster : ['rice' 'pigeonpeas' 'papaya' 'coconut' 'jute' 'coffee']\n"
          ]
        }
      ],
      "source": [
        "km=KMeans(n_clusters=4, init='k-means++', max_iter=300, n_init=10, random_state=0)\n",
        "y_means=km.fit_predict(x)\n",
        "\n",
        "\n",
        "a=data['label']\n",
        "y_means=pd.DataFrame(y_means)\n",
        "z=pd.concat([y_means,a],axis=1)\n",
        "z=z.rename(columns={0:'cluster'})\n",
        "print(\"Crop in first cluster :\", z[z['cluster']==0]['label'].unique())\n",
        "print(\"Crop in first cluster :\", z[z['cluster']==1]['label'].unique())\n",
        "print(\"Crop in first cluster :\", z[z['cluster']==2]['label'].unique())\n",
        "print(\"Crop in first cluster :\", z[z['cluster']==3]['label'].unique())\n"
      ]
    },
    {
      "cell_type": "code",
      "execution_count": null,
      "metadata": {
        "colab": {
          "base_uri": "https://localhost:8080/"
        },
        "id": "rFohMhw1JVbl",
        "outputId": "43ff488e-509e-4c0f-e90c-5c2db825c580"
      },
      "outputs": [
        {
          "name": "stdout",
          "output_type": "stream",
          "text": [
            "shape of x: (2200, 7)\n",
            "shape of y: (2200,)\n"
          ]
        }
      ],
      "source": [
        "y=data['label']\n",
        "x=data.drop(['label'],axis=1)\n",
        "print(\"shape of x:\",x.shape)\n",
        "print(\"shape of y:\",y.shape)"
      ]
    },
    {
      "cell_type": "code",
      "execution_count": null,
      "metadata": {
        "colab": {
          "base_uri": "https://localhost:8080/"
        },
        "id": "Y4aQ03HgKDK3",
        "outputId": "a87d2da8-803f-49ac-ce43-7d1e0326775f"
      },
      "outputs": [
        {
          "name": "stdout",
          "output_type": "stream",
          "text": [
            "The shape of x train (1760, 7)\n",
            "The shape of y train (1760,)\n",
            "The shape of x test (440, 7)\n",
            "The shape of y test (440, 7)\n"
          ]
        }
      ],
      "source": [
        "from sklearn.model_selection import train_test_split\n",
        "x_train, x_test, y_train, y_test =train_test_split(x,y,test_size=0.2, random_state=0)\n",
        "print(\"The shape of x train\",x_train.shape)\n",
        "print(\"The shape of y train\",y_train.shape)\n",
        "print(\"The shape of x test\",x_test.shape)\n",
        "print(\"The shape of y test\",x_test.shape)"
      ]
    },
    {
      "cell_type": "code",
      "execution_count": null,
      "metadata": {
        "colab": {
          "base_uri": "https://localhost:8080/"
        },
        "id": "VoSuGQqJLA8l",
        "outputId": "5cc390e6-072d-4afd-8904-6517dd7160f0"
      },
      "outputs": [
        {
          "name": "stdout",
          "output_type": "stream",
          "text": [
            "Accuracy: 96.81818181818181\n"
          ]
        }
      ],
      "source": [
        "from sklearn.linear_model import LogisticRegression\n",
        "model=LogisticRegression()\n",
        "model.fit(x_train,y_train)\n",
        "y_pred=model.predict(x_test)\n",
        "Logistic_model=accuracy_score(y_pred,y_test)*100\n",
        "print(\"Accuracy:\",Logistic_model)\n"
      ]
    },
    {
      "cell_type": "code",
      "execution_count": null,
      "metadata": {
        "colab": {
          "base_uri": "https://localhost:8080/"
        },
        "id": "nO1Vej0bztPO",
        "outputId": "6b055e62-ea53-4735-a1de-98793f9d47ee"
      },
      "outputs": [
        {
          "name": "stdout",
          "output_type": "stream",
          "text": [
            "Accuracy: 97.72727272727273\n"
          ]
        }
      ],
      "source": [
        "svm_model = SVC()\n",
        "svm_model.fit(x_train, y_train)\n",
        "y_pred = svm_model.predict(x_test)\n",
        "svm_model_acc = accuracy_score(y_pred, y_test) * 100\n",
        "print(\"Accuracy:\", svm_model_acc)"
      ]
    },
    {
      "cell_type": "code",
      "execution_count": null,
      "metadata": {
        "colab": {
          "base_uri": "https://localhost:8080/"
        },
        "id": "brxetRwjLnjM",
        "outputId": "00695001-5d1d-4a02-9dc5-a1ea9a0ff21d"
      },
      "outputs": [
        {
          "name": "stdout",
          "output_type": "stream",
          "text": [
            "              precision    recall  f1-score   support\n",
            "\n",
            "       apple       1.00      1.00      1.00        18\n",
            "      banana       1.00      1.00      1.00        18\n",
            "   blackgram       0.86      0.82      0.84        22\n",
            "    chickpea       1.00      1.00      1.00        23\n",
            "     coconut       1.00      1.00      1.00        15\n",
            "      coffee       1.00      1.00      1.00        17\n",
            "      cotton       0.89      1.00      0.94        16\n",
            "      grapes       1.00      1.00      1.00        18\n",
            "        jute       0.84      1.00      0.91        21\n",
            " kidneybeans       1.00      1.00      1.00        20\n",
            "      lentil       0.94      0.94      0.94        17\n",
            "       maize       0.94      0.89      0.91        18\n",
            "       mango       1.00      1.00      1.00        21\n",
            "   mothbeans       0.88      0.92      0.90        25\n",
            "    mungbean       1.00      1.00      1.00        17\n",
            "   muskmelon       1.00      1.00      1.00        23\n",
            "      orange       1.00      1.00      1.00        23\n",
            "      papaya       1.00      0.95      0.98        21\n",
            "  pigeonpeas       1.00      1.00      1.00        22\n",
            " pomegranate       1.00      1.00      1.00        23\n",
            "        rice       1.00      0.84      0.91        25\n",
            "  watermelon       1.00      1.00      1.00        17\n",
            "\n",
            "    accuracy                           0.97       440\n",
            "   macro avg       0.97      0.97      0.97       440\n",
            "weighted avg       0.97      0.97      0.97       440\n",
            "\n"
          ]
        }
      ],
      "source": [
        "from sklearn.metrics import classification_report\n",
        "cr=classification_report(y_test,y_pred)\n",
        "print(cr)"
      ]
    },
    {
      "cell_type": "code",
      "execution_count": null,
      "metadata": {
        "colab": {
          "base_uri": "https://localhost:8080/"
        },
        "id": "r6yjCEWZMT_u",
        "outputId": "d73af566-a337-41e6-a0d4-1d64a3125c0c"
      },
      "outputs": [
        {
          "name": "stdout",
          "output_type": "stream",
          "text": [
            "The suggested crop is given climatic condition is: ['papaya']\n"
          ]
        }
      ],
      "source": [
        "prediction=svm_model.predict((np.array([[90,\n",
        "                                     40,\n",
        "                                     40,\n",
        "                                     20,\n",
        "                                     45,\n",
        "                                     7,\n",
        "                                     2000]])))\n",
        "print(\"The suggested crop is given climatic condition is:\", prediction)\n"
      ]
    },
    {
      "cell_type": "markdown",
      "metadata": {
        "id": "KIlWLezlN-4t"
      },
      "source": [
        "# N,P,K,TEMP,HUM,PH,RAIN"
      ]
    },
    {
      "cell_type": "code",
      "execution_count": null,
      "metadata": {
        "colab": {
          "base_uri": "https://localhost:8080/"
        },
        "id": "-K3sd3CpNteG",
        "outputId": "c320501b-0436-4075-aed0-6b18b898c1ac"
      },
      "outputs": [
        {
          "name": "stdout",
          "output_type": "stream",
          "text": [
            "The suggested crop is given climatic condition is: ['rice']\n"
          ]
        }
      ],
      "source": [
        "prediction=model.predict((np.array([[90,\n",
        "                                     42,\n",
        "                                     43,\n",
        "                                     20,\n",
        "                                     82,\n",
        "                                     6.5,\n",
        "                                     202]])))\n",
        "print(\"The suggested crop is given climatic condition is:\", prediction)"
      ]
    },
    {
      "cell_type": "code",
      "execution_count": null,
      "metadata": {
        "id": "DPAdDaG01gN1"
      },
      "outputs": [],
      "source": [
        "import pickle\n",
        "with open('model', 'wb') as files:\n",
        "    pickle.dump(svm_model, files)"
      ]
    }
  ],
  "metadata": {
    "colab": {
      "provenance": []
    },
    "gpuClass": "standard",
    "kernelspec": {
      "display_name": "krishi-sevak",
      "language": "python",
      "name": "python3"
    },
    "language_info": {
      "codemirror_mode": {
        "name": "ipython",
        "version": 3
      },
      "file_extension": ".py",
      "mimetype": "text/x-python",
      "name": "python",
      "nbconvert_exporter": "python",
      "pygments_lexer": "ipython3",
      "version": "3.10.9"
    },
    "vscode": {
      "interpreter": {
        "hash": "c65b06f3092c0bbd8edef26fe4874e21314c6097bd95b7ee9f14a4825d58a3e0"
      }
    },
    "widgets": {
      "application/vnd.jupyter.widget-state+json": {
        "01e0a4831ac64663b78cdd45871bd848": {
          "model_module": "@jupyter-widgets/controls",
          "model_module_version": "1.5.0",
          "model_name": "DescriptionStyleModel",
          "state": {
            "_model_module": "@jupyter-widgets/controls",
            "_model_module_version": "1.5.0",
            "_model_name": "DescriptionStyleModel",
            "_view_count": null,
            "_view_module": "@jupyter-widgets/base",
            "_view_module_version": "1.2.0",
            "_view_name": "StyleView",
            "description_width": ""
          }
        },
        "12ab78a522fd4e55b9caa8d92ab769a9": {
          "model_module": "@jupyter-widgets/controls",
          "model_module_version": "1.5.0",
          "model_name": "DescriptionStyleModel",
          "state": {
            "_model_module": "@jupyter-widgets/controls",
            "_model_module_version": "1.5.0",
            "_model_name": "DescriptionStyleModel",
            "_view_count": null,
            "_view_module": "@jupyter-widgets/base",
            "_view_module_version": "1.2.0",
            "_view_name": "StyleView",
            "description_width": ""
          }
        },
        "16f46c855d94447e811bfeef89ef39f1": {
          "model_module": "@jupyter-widgets/base",
          "model_module_version": "1.2.0",
          "model_name": "LayoutModel",
          "state": {
            "_model_module": "@jupyter-widgets/base",
            "_model_module_version": "1.2.0",
            "_model_name": "LayoutModel",
            "_view_count": null,
            "_view_module": "@jupyter-widgets/base",
            "_view_module_version": "1.2.0",
            "_view_name": "LayoutView",
            "align_content": null,
            "align_items": null,
            "align_self": null,
            "border": null,
            "bottom": null,
            "display": null,
            "flex": null,
            "flex_flow": null,
            "grid_area": null,
            "grid_auto_columns": null,
            "grid_auto_flow": null,
            "grid_auto_rows": null,
            "grid_column": null,
            "grid_gap": null,
            "grid_row": null,
            "grid_template_areas": null,
            "grid_template_columns": null,
            "grid_template_rows": null,
            "height": null,
            "justify_content": null,
            "justify_items": null,
            "left": null,
            "margin": null,
            "max_height": null,
            "max_width": null,
            "min_height": null,
            "min_width": null,
            "object_fit": null,
            "object_position": null,
            "order": null,
            "overflow": null,
            "overflow_x": null,
            "overflow_y": null,
            "padding": null,
            "right": null,
            "top": null,
            "visibility": null,
            "width": null
          }
        },
        "1c2234bd57654149ad5f1360cc68fd6c": {
          "model_module": "@jupyter-widgets/controls",
          "model_module_version": "1.5.0",
          "model_name": "DropdownModel",
          "state": {
            "_dom_classes": [],
            "_model_module": "@jupyter-widgets/controls",
            "_model_module_version": "1.5.0",
            "_model_name": "DropdownModel",
            "_options_labels": [
              "rice",
              "maize",
              "jute",
              "cotton",
              "coconut",
              "papaya",
              "orange",
              "apple",
              "muskmelon",
              "watermelon",
              "grapes",
              "mango",
              "banana",
              "pomegranate",
              "lentil",
              "blackgram",
              "mungbean",
              "mothbeans",
              "pigeonpeas",
              "kidneybeans",
              "chickpea",
              "coffee"
            ],
            "_view_count": null,
            "_view_module": "@jupyter-widgets/controls",
            "_view_module_version": "1.5.0",
            "_view_name": "DropdownView",
            "description": "crops",
            "description_tooltip": null,
            "disabled": false,
            "index": 0,
            "layout": "IPY_MODEL_59786bab16b142a08cdde91ddb2c71b1",
            "style": "IPY_MODEL_29c1362ff72a40cfafd55fa05cda407d"
          }
        },
        "26e77d4b081f44559962e84df56da300": {
          "model_module": "@jupyter-widgets/base",
          "model_module_version": "1.2.0",
          "model_name": "LayoutModel",
          "state": {
            "_model_module": "@jupyter-widgets/base",
            "_model_module_version": "1.2.0",
            "_model_name": "LayoutModel",
            "_view_count": null,
            "_view_module": "@jupyter-widgets/base",
            "_view_module_version": "1.2.0",
            "_view_name": "LayoutView",
            "align_content": null,
            "align_items": null,
            "align_self": null,
            "border": null,
            "bottom": null,
            "display": null,
            "flex": null,
            "flex_flow": null,
            "grid_area": null,
            "grid_auto_columns": null,
            "grid_auto_flow": null,
            "grid_auto_rows": null,
            "grid_column": null,
            "grid_gap": null,
            "grid_row": null,
            "grid_template_areas": null,
            "grid_template_columns": null,
            "grid_template_rows": null,
            "height": null,
            "justify_content": null,
            "justify_items": null,
            "left": null,
            "margin": null,
            "max_height": null,
            "max_width": null,
            "min_height": null,
            "min_width": null,
            "object_fit": null,
            "object_position": null,
            "order": null,
            "overflow": null,
            "overflow_x": null,
            "overflow_y": null,
            "padding": null,
            "right": null,
            "top": null,
            "visibility": null,
            "width": null
          }
        },
        "29c1362ff72a40cfafd55fa05cda407d": {
          "model_module": "@jupyter-widgets/controls",
          "model_module_version": "1.5.0",
          "model_name": "DescriptionStyleModel",
          "state": {
            "_model_module": "@jupyter-widgets/controls",
            "_model_module_version": "1.5.0",
            "_model_name": "DescriptionStyleModel",
            "_view_count": null,
            "_view_module": "@jupyter-widgets/base",
            "_view_module_version": "1.2.0",
            "_view_name": "StyleView",
            "description_width": ""
          }
        },
        "2ddd97f9bbfa41f4b225c392fbac07bb": {
          "model_module": "@jupyter-widgets/controls",
          "model_module_version": "1.5.0",
          "model_name": "VBoxModel",
          "state": {
            "_dom_classes": [
              "widget-interact"
            ],
            "_model_module": "@jupyter-widgets/controls",
            "_model_module_version": "1.5.0",
            "_model_name": "VBoxModel",
            "_view_count": null,
            "_view_module": "@jupyter-widgets/controls",
            "_view_module_version": "1.5.0",
            "_view_name": "VBoxView",
            "box_style": "",
            "children": [
              "IPY_MODEL_1c2234bd57654149ad5f1360cc68fd6c",
              "IPY_MODEL_a8fb9f63bdc746e9b158bff2d460435f"
            ],
            "layout": "IPY_MODEL_e21ad6f7805e47aabc877c9713e8f97c"
          }
        },
        "374660fad62246e086b83b9e31e5f3b4": {
          "model_module": "@jupyter-widgets/base",
          "model_module_version": "1.2.0",
          "model_name": "LayoutModel",
          "state": {
            "_model_module": "@jupyter-widgets/base",
            "_model_module_version": "1.2.0",
            "_model_name": "LayoutModel",
            "_view_count": null,
            "_view_module": "@jupyter-widgets/base",
            "_view_module_version": "1.2.0",
            "_view_name": "LayoutView",
            "align_content": null,
            "align_items": null,
            "align_self": null,
            "border": null,
            "bottom": null,
            "display": null,
            "flex": null,
            "flex_flow": null,
            "grid_area": null,
            "grid_auto_columns": null,
            "grid_auto_flow": null,
            "grid_auto_rows": null,
            "grid_column": null,
            "grid_gap": null,
            "grid_row": null,
            "grid_template_areas": null,
            "grid_template_columns": null,
            "grid_template_rows": null,
            "height": null,
            "justify_content": null,
            "justify_items": null,
            "left": null,
            "margin": null,
            "max_height": null,
            "max_width": null,
            "min_height": null,
            "min_width": null,
            "object_fit": null,
            "object_position": null,
            "order": null,
            "overflow": null,
            "overflow_x": null,
            "overflow_y": null,
            "padding": null,
            "right": null,
            "top": null,
            "visibility": null,
            "width": null
          }
        },
        "3807f4ad8614486c8bc8258cfe810c64": {
          "model_module": "@jupyter-widgets/base",
          "model_module_version": "1.2.0",
          "model_name": "LayoutModel",
          "state": {
            "_model_module": "@jupyter-widgets/base",
            "_model_module_version": "1.2.0",
            "_model_name": "LayoutModel",
            "_view_count": null,
            "_view_module": "@jupyter-widgets/base",
            "_view_module_version": "1.2.0",
            "_view_name": "LayoutView",
            "align_content": null,
            "align_items": null,
            "align_self": null,
            "border": null,
            "bottom": null,
            "display": null,
            "flex": null,
            "flex_flow": null,
            "grid_area": null,
            "grid_auto_columns": null,
            "grid_auto_flow": null,
            "grid_auto_rows": null,
            "grid_column": null,
            "grid_gap": null,
            "grid_row": null,
            "grid_template_areas": null,
            "grid_template_columns": null,
            "grid_template_rows": null,
            "height": null,
            "justify_content": null,
            "justify_items": null,
            "left": null,
            "margin": null,
            "max_height": null,
            "max_width": null,
            "min_height": null,
            "min_width": null,
            "object_fit": null,
            "object_position": null,
            "order": null,
            "overflow": null,
            "overflow_x": null,
            "overflow_y": null,
            "padding": null,
            "right": null,
            "top": null,
            "visibility": null,
            "width": null
          }
        },
        "385798406ea64c979da34ed53dfaa7e6": {
          "model_module": "@jupyter-widgets/output",
          "model_module_version": "1.0.0",
          "model_name": "OutputModel",
          "state": {
            "_dom_classes": [],
            "_model_module": "@jupyter-widgets/output",
            "_model_module_version": "1.0.0",
            "_model_name": "OutputModel",
            "_view_count": null,
            "_view_module": "@jupyter-widgets/output",
            "_view_module_version": "1.0.0",
            "_view_name": "OutputView",
            "layout": "IPY_MODEL_d4aeb0725363436790ec65e231c6ce58",
            "msg_id": "",
            "outputs": [
              {
                "name": "stdout",
                "output_type": "stream",
                "text": [
                  "Average Value for N is 50.55\n",
                  ".............................................\n",
                  "Rice : 79.89\n",
                  "Black Grams : 40.02\n",
                  "Banana : 100.23\n",
                  "Jute : 78.40\n",
                  "Coconut : 21.98\n",
                  "Apple : 20.80\n",
                  "Papaya : 78.40\n",
                  "Muskmelon : 100.32\n",
                  "Wataermelon : 99.42\n",
                  "Kidney Beans : nan\n",
                  "Mung Beans : 20.99\n",
                  "Oranges : nan\n",
                  "Chick Peas : 40.09\n",
                  "Lentils : nan\n",
                  "Cotton : 117.77\n",
                  "Maize : 77.76\n",
                  "Moth Beans : 21.44\n",
                  "Pigeon Peas : 20.73\n",
                  "Mango : 20.07\n",
                  "Pomegranate : 18.87\n",
                  "Coffee : 101.20\n"
                ]
              }
            ]
          }
        },
        "42f96f85138c4be1904ef4d534c5dba8": {
          "model_module": "@jupyter-widgets/controls",
          "model_module_version": "1.5.0",
          "model_name": "DropdownModel",
          "state": {
            "_dom_classes": [],
            "_model_module": "@jupyter-widgets/controls",
            "_model_module_version": "1.5.0",
            "_model_name": "DropdownModel",
            "_options_labels": [
              "N",
              "P",
              "K",
              "temperature",
              "ph",
              "humidity",
              "rainfall"
            ],
            "_view_count": null,
            "_view_module": "@jupyter-widgets/controls",
            "_view_module_version": "1.5.0",
            "_view_name": "DropdownView",
            "description": "conditions",
            "description_tooltip": null,
            "disabled": false,
            "index": 0,
            "layout": "IPY_MODEL_16f46c855d94447e811bfeef89ef39f1",
            "style": "IPY_MODEL_01e0a4831ac64663b78cdd45871bd848"
          }
        },
        "59786bab16b142a08cdde91ddb2c71b1": {
          "model_module": "@jupyter-widgets/base",
          "model_module_version": "1.2.0",
          "model_name": "LayoutModel",
          "state": {
            "_model_module": "@jupyter-widgets/base",
            "_model_module_version": "1.2.0",
            "_model_name": "LayoutModel",
            "_view_count": null,
            "_view_module": "@jupyter-widgets/base",
            "_view_module_version": "1.2.0",
            "_view_name": "LayoutView",
            "align_content": null,
            "align_items": null,
            "align_self": null,
            "border": null,
            "bottom": null,
            "display": null,
            "flex": null,
            "flex_flow": null,
            "grid_area": null,
            "grid_auto_columns": null,
            "grid_auto_flow": null,
            "grid_auto_rows": null,
            "grid_column": null,
            "grid_gap": null,
            "grid_row": null,
            "grid_template_areas": null,
            "grid_template_columns": null,
            "grid_template_rows": null,
            "height": null,
            "justify_content": null,
            "justify_items": null,
            "left": null,
            "margin": null,
            "max_height": null,
            "max_width": null,
            "min_height": null,
            "min_width": null,
            "object_fit": null,
            "object_position": null,
            "order": null,
            "overflow": null,
            "overflow_x": null,
            "overflow_y": null,
            "padding": null,
            "right": null,
            "top": null,
            "visibility": null,
            "width": null
          }
        },
        "6e1f4b6688b04353b7d7bae48a377c2a": {
          "model_module": "@jupyter-widgets/base",
          "model_module_version": "1.2.0",
          "model_name": "LayoutModel",
          "state": {
            "_model_module": "@jupyter-widgets/base",
            "_model_module_version": "1.2.0",
            "_model_name": "LayoutModel",
            "_view_count": null,
            "_view_module": "@jupyter-widgets/base",
            "_view_module_version": "1.2.0",
            "_view_name": "LayoutView",
            "align_content": null,
            "align_items": null,
            "align_self": null,
            "border": null,
            "bottom": null,
            "display": null,
            "flex": null,
            "flex_flow": null,
            "grid_area": null,
            "grid_auto_columns": null,
            "grid_auto_flow": null,
            "grid_auto_rows": null,
            "grid_column": null,
            "grid_gap": null,
            "grid_row": null,
            "grid_template_areas": null,
            "grid_template_columns": null,
            "grid_template_rows": null,
            "height": null,
            "justify_content": null,
            "justify_items": null,
            "left": null,
            "margin": null,
            "max_height": null,
            "max_width": null,
            "min_height": null,
            "min_width": null,
            "object_fit": null,
            "object_position": null,
            "order": null,
            "overflow": null,
            "overflow_x": null,
            "overflow_y": null,
            "padding": null,
            "right": null,
            "top": null,
            "visibility": null,
            "width": null
          }
        },
        "a18311a756484d10b6d7c73b4bcdf409": {
          "model_module": "@jupyter-widgets/controls",
          "model_module_version": "1.5.0",
          "model_name": "VBoxModel",
          "state": {
            "_dom_classes": [
              "widget-interact"
            ],
            "_model_module": "@jupyter-widgets/controls",
            "_model_module_version": "1.5.0",
            "_model_name": "VBoxModel",
            "_view_count": null,
            "_view_module": "@jupyter-widgets/controls",
            "_view_module_version": "1.5.0",
            "_view_name": "VBoxView",
            "box_style": "",
            "children": [
              "IPY_MODEL_cb66884da6e44e48bca63a3f7cbb7b6a",
              "IPY_MODEL_385798406ea64c979da34ed53dfaa7e6"
            ],
            "layout": "IPY_MODEL_3807f4ad8614486c8bc8258cfe810c64"
          }
        },
        "a8fb9f63bdc746e9b158bff2d460435f": {
          "model_module": "@jupyter-widgets/output",
          "model_module_version": "1.0.0",
          "model_name": "OutputModel",
          "state": {
            "_dom_classes": [],
            "_model_module": "@jupyter-widgets/output",
            "_model_module_version": "1.0.0",
            "_model_name": "OutputModel",
            "_view_count": null,
            "_view_module": "@jupyter-widgets/output",
            "_view_module_version": "1.0.0",
            "_view_name": "OutputView",
            "layout": "IPY_MODEL_cbbd578005d04b53bd4919ac2c0922e4",
            "msg_id": "",
            "outputs": [
              {
                "name": "stdout",
                "output_type": "stream",
                "text": [
                  "........................................\n",
                  "Statistic for Nitrogen\n",
                  "Minimum Nitrogen required: 60\n",
                  "Avarage Nitrogen required: 79.89\n",
                  "MMaximum Nitrogen required: 99\n",
                  "........................................\n",
                  "Statistic for Phosphorous\n",
                  "Minimum Phosphorous required: 35\n",
                  "Avarage Phosphorous required: 47.58\n",
                  "MMaximum Phosphorous required: 60\n",
                  "........................................\n",
                  "Statistic for Potassium\n",
                  "Minimum Potassium required: 35\n",
                  "Avarage Potassium required: 39.87\n",
                  "Maximum Potassium required: 45\n",
                  "........................................\n",
                  "Statistic for Temperature\n",
                  "Minimum Temperature required:20.045414\n",
                  "Avarage Temperature required:23.689332\n",
                  "Maximum Temperature required:26.929951\n",
                  "........................................\n",
                  "Statistic for humidity\n",
                  "Minimum humidity required:80.122675\n",
                  "Avarage humidity required:82.272822\n",
                  "Maximum humidity required:84.969072\n",
                  "........................................\n",
                  "Statistic for ph\n",
                  "Minimum ph required:5.005307\n",
                  "Avarage ph required:6.425471\n",
                  "Maximum ph required:7.868475\n",
                  "........................................\n",
                  "Statistic for rainfall\n",
                  "Minimum rainfall required:182.561632\n",
                  "Avarage rainfall required:236.181114\n",
                  "Maximum rainfall required:298.560117\n"
                ]
              }
            ]
          }
        },
        "c08162f6a7b4494aa9f017182b00ac48": {
          "model_module": "@jupyter-widgets/output",
          "model_module_version": "1.0.0",
          "model_name": "OutputModel",
          "state": {
            "_dom_classes": [],
            "_model_module": "@jupyter-widgets/output",
            "_model_module_version": "1.0.0",
            "_model_name": "OutputModel",
            "_view_count": null,
            "_view_module": "@jupyter-widgets/output",
            "_view_module_version": "1.0.0",
            "_view_name": "OutputView",
            "layout": "IPY_MODEL_6e1f4b6688b04353b7d7bae48a377c2a",
            "msg_id": "",
            "outputs": [
              {
                "name": "stdout",
                "output_type": "stream",
                "text": [
                  "Crops which require greater than average N \n",
                  "\n",
                  "['rice' 'maize' 'chickpea' 'blackgram' 'banana' 'watermelon' 'muskmelon'\n",
                  " 'papaya' 'cotton' 'jute' 'coffee']\n",
                  "..................................\n",
                  "Crops which require less than average N \n",
                  "\n",
                  "['chickpea' 'kidneybeans' 'pigeonpeas' 'mothbeans' 'mungbean' 'blackgram'\n",
                  " 'lentil' 'pomegranate' 'mango' 'grapes' 'apple' 'orange' 'papaya'\n",
                  " 'coconut']\n"
                ]
              }
            ]
          }
        },
        "cb66884da6e44e48bca63a3f7cbb7b6a": {
          "model_module": "@jupyter-widgets/controls",
          "model_module_version": "1.5.0",
          "model_name": "DropdownModel",
          "state": {
            "_dom_classes": [],
            "_model_module": "@jupyter-widgets/controls",
            "_model_module_version": "1.5.0",
            "_model_name": "DropdownModel",
            "_options_labels": [
              "N",
              "P",
              "K",
              "temperature",
              "ph",
              "humidity",
              "rainfall"
            ],
            "_view_count": null,
            "_view_module": "@jupyter-widgets/controls",
            "_view_module_version": "1.5.0",
            "_view_name": "DropdownView",
            "description": "conditions",
            "description_tooltip": null,
            "disabled": false,
            "index": 0,
            "layout": "IPY_MODEL_374660fad62246e086b83b9e31e5f3b4",
            "style": "IPY_MODEL_12ab78a522fd4e55b9caa8d92ab769a9"
          }
        },
        "cbbd578005d04b53bd4919ac2c0922e4": {
          "model_module": "@jupyter-widgets/base",
          "model_module_version": "1.2.0",
          "model_name": "LayoutModel",
          "state": {
            "_model_module": "@jupyter-widgets/base",
            "_model_module_version": "1.2.0",
            "_model_name": "LayoutModel",
            "_view_count": null,
            "_view_module": "@jupyter-widgets/base",
            "_view_module_version": "1.2.0",
            "_view_name": "LayoutView",
            "align_content": null,
            "align_items": null,
            "align_self": null,
            "border": null,
            "bottom": null,
            "display": null,
            "flex": null,
            "flex_flow": null,
            "grid_area": null,
            "grid_auto_columns": null,
            "grid_auto_flow": null,
            "grid_auto_rows": null,
            "grid_column": null,
            "grid_gap": null,
            "grid_row": null,
            "grid_template_areas": null,
            "grid_template_columns": null,
            "grid_template_rows": null,
            "height": null,
            "justify_content": null,
            "justify_items": null,
            "left": null,
            "margin": null,
            "max_height": null,
            "max_width": null,
            "min_height": null,
            "min_width": null,
            "object_fit": null,
            "object_position": null,
            "order": null,
            "overflow": null,
            "overflow_x": null,
            "overflow_y": null,
            "padding": null,
            "right": null,
            "top": null,
            "visibility": null,
            "width": null
          }
        },
        "d4aeb0725363436790ec65e231c6ce58": {
          "model_module": "@jupyter-widgets/base",
          "model_module_version": "1.2.0",
          "model_name": "LayoutModel",
          "state": {
            "_model_module": "@jupyter-widgets/base",
            "_model_module_version": "1.2.0",
            "_model_name": "LayoutModel",
            "_view_count": null,
            "_view_module": "@jupyter-widgets/base",
            "_view_module_version": "1.2.0",
            "_view_name": "LayoutView",
            "align_content": null,
            "align_items": null,
            "align_self": null,
            "border": null,
            "bottom": null,
            "display": null,
            "flex": null,
            "flex_flow": null,
            "grid_area": null,
            "grid_auto_columns": null,
            "grid_auto_flow": null,
            "grid_auto_rows": null,
            "grid_column": null,
            "grid_gap": null,
            "grid_row": null,
            "grid_template_areas": null,
            "grid_template_columns": null,
            "grid_template_rows": null,
            "height": null,
            "justify_content": null,
            "justify_items": null,
            "left": null,
            "margin": null,
            "max_height": null,
            "max_width": null,
            "min_height": null,
            "min_width": null,
            "object_fit": null,
            "object_position": null,
            "order": null,
            "overflow": null,
            "overflow_x": null,
            "overflow_y": null,
            "padding": null,
            "right": null,
            "top": null,
            "visibility": null,
            "width": null
          }
        },
        "e21ad6f7805e47aabc877c9713e8f97c": {
          "model_module": "@jupyter-widgets/base",
          "model_module_version": "1.2.0",
          "model_name": "LayoutModel",
          "state": {
            "_model_module": "@jupyter-widgets/base",
            "_model_module_version": "1.2.0",
            "_model_name": "LayoutModel",
            "_view_count": null,
            "_view_module": "@jupyter-widgets/base",
            "_view_module_version": "1.2.0",
            "_view_name": "LayoutView",
            "align_content": null,
            "align_items": null,
            "align_self": null,
            "border": null,
            "bottom": null,
            "display": null,
            "flex": null,
            "flex_flow": null,
            "grid_area": null,
            "grid_auto_columns": null,
            "grid_auto_flow": null,
            "grid_auto_rows": null,
            "grid_column": null,
            "grid_gap": null,
            "grid_row": null,
            "grid_template_areas": null,
            "grid_template_columns": null,
            "grid_template_rows": null,
            "height": null,
            "justify_content": null,
            "justify_items": null,
            "left": null,
            "margin": null,
            "max_height": null,
            "max_width": null,
            "min_height": null,
            "min_width": null,
            "object_fit": null,
            "object_position": null,
            "order": null,
            "overflow": null,
            "overflow_x": null,
            "overflow_y": null,
            "padding": null,
            "right": null,
            "top": null,
            "visibility": null,
            "width": null
          }
        },
        "eec8bd550c5d482f8ff7cb570ab65f1e": {
          "model_module": "@jupyter-widgets/controls",
          "model_module_version": "1.5.0",
          "model_name": "VBoxModel",
          "state": {
            "_dom_classes": [
              "widget-interact"
            ],
            "_model_module": "@jupyter-widgets/controls",
            "_model_module_version": "1.5.0",
            "_model_name": "VBoxModel",
            "_view_count": null,
            "_view_module": "@jupyter-widgets/controls",
            "_view_module_version": "1.5.0",
            "_view_name": "VBoxView",
            "box_style": "",
            "children": [
              "IPY_MODEL_42f96f85138c4be1904ef4d534c5dba8",
              "IPY_MODEL_c08162f6a7b4494aa9f017182b00ac48"
            ],
            "layout": "IPY_MODEL_26e77d4b081f44559962e84df56da300"
          }
        }
      }
    }
  },
  "nbformat": 4,
  "nbformat_minor": 0
}
